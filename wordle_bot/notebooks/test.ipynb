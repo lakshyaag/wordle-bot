{
 "cells": [
  {
   "cell_type": "code",
   "execution_count": 1,
   "metadata": {},
   "outputs": [],
   "source": [
    "from rich import print\n",
    "from dotenv import load_dotenv, find_dotenv\n",
    "\n",
    "load_dotenv(find_dotenv())\n",
    "%load_ext rich\n",
    "%load_ext autoreload\n",
    "%autoreload 2\n"
   ]
  },
  {
   "cell_type": "code",
   "execution_count": 5,
   "metadata": {},
   "outputs": [],
   "source": [
    "from wordle_bot.state import AgentState\n",
    "from wordle_bot.agent import graph\n",
    "from langchain_core.messages import SystemMessage, HumanMessage\n",
    "from textwrap import dedent\n"
   ]
  },
  {
   "cell_type": "code",
   "execution_count": 3,
   "metadata": {},
   "outputs": [],
   "source": [
    "SYSTEM_PROMPT = SystemMessage(\n",
    "    dedent(\n",
    "        \"\"\"You are playing Wordle. You have 6 attempts to guess a 5-letter English word. \n",
    "After each guess, you will receive feedback on each letter in your guess, which you can use to refine your next guess.\n",
    "\n",
    "A status of:\n",
    "- `red` means that the letter does not appear in the word in any position - you should not use this letter in any future guesses\n",
    "- `yellow` means that the letter appears in the word, but not in that position - you should try this letter in a different position\n",
    "- `green` means that the letter appears in the word in that position - you should keep this letter in that position in future guesses.\"\"\"\n",
    "    )\n",
    ")\n"
   ]
  },
  {
   "cell_type": "code",
   "execution_count": 7,
   "metadata": {},
   "outputs": [
    {
     "data": {
      "text/html": [
       "<pre style=\"white-space:pre;overflow-x:auto;line-height:normal;font-family:Menlo,'DejaVu Sans Mono',consolas,'Courier New',monospace\">--------------------------------------------------------------------------------\n",
       "</pre>\n"
      ],
      "text/plain": [
       "--------------------------------------------------------------------------------\n"
      ]
     },
     "metadata": {},
     "output_type": "display_data"
    },
    {
     "data": {
      "text/html": [
       "<pre style=\"white-space:pre;overflow-x:auto;line-height:normal;font-family:Menlo,'DejaVu Sans Mono',consolas,'Courier New',monospace\">Messages to LLM:\n",
       "</pre>\n"
      ],
      "text/plain": [
       "Messages to LLM:\n"
      ]
     },
     "metadata": {},
     "output_type": "display_data"
    },
    {
     "data": {
      "text/html": [
       "<pre style=\"white-space:pre;overflow-x:auto;line-height:normal;font-family:Menlo,'DejaVu Sans Mono',consolas,'Courier New',monospace\"><span style=\"color: #808000; text-decoration-color: #808000\">content</span>=<span style=\"color: #008000; text-decoration-color: #008000\">'You are playing Wordle. You have 6 attempts to guess a 5-letter English word. \\nAfter each guess, you will</span>\n",
       "<span style=\"color: #008000; text-decoration-color: #008000\">receive feedback on each letter in your guess, which you can use to refine your next guess.\\n\\nA status of:\\n- </span>\n",
       "<span style=\"color: #008000; text-decoration-color: #008000\">`red` means that the letter does not appear in the word in any position - you should not use this letter in any </span>\n",
       "<span style=\"color: #008000; text-decoration-color: #008000\">future guesses\\n- `yellow` means that the letter appears in the word, but not in that position - you should try </span>\n",
       "<span style=\"color: #008000; text-decoration-color: #008000\">this letter in a different position\\n- `green` means that the letter appears in the word in that position - you </span>\n",
       "<span style=\"color: #008000; text-decoration-color: #008000\">should keep this letter in that position in future guesses.'</span> <span style=\"color: #808000; text-decoration-color: #808000\">id</span>=<span style=\"color: #008000; text-decoration-color: #008000\">'b166f61f-488d-495e-a5c7-186538de9f52'</span>\n",
       "</pre>\n"
      ],
      "text/plain": [
       "\u001b[33mcontent\u001b[0m=\u001b[32m'You are playing Wordle. You have 6 attempts to guess a 5-letter English word. \\nAfter each guess, you will\u001b[0m\n",
       "\u001b[32mreceive feedback on each letter in your guess, which you can use to refine your next guess.\\n\\nA status of:\\n- \u001b[0m\n",
       "\u001b[32m`red` means that the letter does not appear in the word in any position - you should not use this letter in any \u001b[0m\n",
       "\u001b[32mfuture guesses\\n- `yellow` means that the letter appears in the word, but not in that position - you should try \u001b[0m\n",
       "\u001b[32mthis letter in a different position\\n- `green` means that the letter appears in the word in that position - you \u001b[0m\n",
       "\u001b[32mshould keep this letter in that position in future guesses.'\u001b[0m \u001b[33mid\u001b[0m=\u001b[32m'b166f61f-488d-495e-a5c7-186538de9f52'\u001b[0m\n"
      ]
     },
     "metadata": {},
     "output_type": "display_data"
    },
    {
     "data": {
      "text/html": [
       "<pre style=\"white-space:pre;overflow-x:auto;line-height:normal;font-family:Menlo,'DejaVu Sans Mono',consolas,'Courier New',monospace\"><span style=\"color: #808000; text-decoration-color: #808000\">content</span>=<span style=\"color: #008000; text-decoration-color: #008000\">'Begin by guessing a 5-letter word.'</span> <span style=\"color: #808000; text-decoration-color: #808000\">id</span>=<span style=\"color: #008000; text-decoration-color: #008000\">'c4dfd948-914d-4564-a7a7-cac773716b12'</span>\n",
       "</pre>\n"
      ],
      "text/plain": [
       "\u001b[33mcontent\u001b[0m=\u001b[32m'Begin by guessing a 5-letter word.'\u001b[0m \u001b[33mid\u001b[0m=\u001b[32m'c4dfd948-914d-4564-a7a7-cac773716b12'\u001b[0m\n"
      ]
     },
     "metadata": {},
     "output_type": "display_data"
    },
    {
     "data": {
      "text/html": [
       "<pre style=\"white-space:pre;overflow-x:auto;line-height:normal;font-family:Menlo,'DejaVu Sans Mono',consolas,'Courier New',monospace\">--------------------------------------------------------------------------------\n",
       "</pre>\n"
      ],
      "text/plain": [
       "--------------------------------------------------------------------------------\n"
      ]
     },
     "metadata": {},
     "output_type": "display_data"
    },
    {
     "data": {
      "text/html": [
       "<pre style=\"white-space:pre;overflow-x:auto;line-height:normal;font-family:Menlo,'DejaVu Sans Mono',consolas,'Courier New',monospace\">--------------------------------------------------------------------------------\n",
       "</pre>\n"
      ],
      "text/plain": [
       "--------------------------------------------------------------------------------\n"
      ]
     },
     "metadata": {},
     "output_type": "display_data"
    },
    {
     "data": {
      "text/html": [
       "<pre style=\"white-space:pre;overflow-x:auto;line-height:normal;font-family:Menlo,'DejaVu Sans Mono',consolas,'Courier New',monospace\">Messages to LLM:\n",
       "</pre>\n"
      ],
      "text/plain": [
       "Messages to LLM:\n"
      ]
     },
     "metadata": {},
     "output_type": "display_data"
    },
    {
     "data": {
      "text/html": [
       "<pre style=\"white-space:pre;overflow-x:auto;line-height:normal;font-family:Menlo,'DejaVu Sans Mono',consolas,'Courier New',monospace\"><span style=\"color: #808000; text-decoration-color: #808000\">content</span>=<span style=\"color: #008000; text-decoration-color: #008000\">'You are playing Wordle. You have 6 attempts to guess a 5-letter English word. \\nAfter each guess, you will</span>\n",
       "<span style=\"color: #008000; text-decoration-color: #008000\">receive feedback on each letter in your guess, which you can use to refine your next guess.\\n\\nA status of:\\n- </span>\n",
       "<span style=\"color: #008000; text-decoration-color: #008000\">`red` means that the letter does not appear in the word in any position - you should not use this letter in any </span>\n",
       "<span style=\"color: #008000; text-decoration-color: #008000\">future guesses\\n- `yellow` means that the letter appears in the word, but not in that position - you should try </span>\n",
       "<span style=\"color: #008000; text-decoration-color: #008000\">this letter in a different position\\n- `green` means that the letter appears in the word in that position - you </span>\n",
       "<span style=\"color: #008000; text-decoration-color: #008000\">should keep this letter in that position in future guesses.'</span> <span style=\"color: #808000; text-decoration-color: #808000\">id</span>=<span style=\"color: #008000; text-decoration-color: #008000\">'b166f61f-488d-495e-a5c7-186538de9f52'</span>\n",
       "</pre>\n"
      ],
      "text/plain": [
       "\u001b[33mcontent\u001b[0m=\u001b[32m'You are playing Wordle. You have 6 attempts to guess a 5-letter English word. \\nAfter each guess, you will\u001b[0m\n",
       "\u001b[32mreceive feedback on each letter in your guess, which you can use to refine your next guess.\\n\\nA status of:\\n- \u001b[0m\n",
       "\u001b[32m`red` means that the letter does not appear in the word in any position - you should not use this letter in any \u001b[0m\n",
       "\u001b[32mfuture guesses\\n- `yellow` means that the letter appears in the word, but not in that position - you should try \u001b[0m\n",
       "\u001b[32mthis letter in a different position\\n- `green` means that the letter appears in the word in that position - you \u001b[0m\n",
       "\u001b[32mshould keep this letter in that position in future guesses.'\u001b[0m \u001b[33mid\u001b[0m=\u001b[32m'b166f61f-488d-495e-a5c7-186538de9f52'\u001b[0m\n"
      ]
     },
     "metadata": {},
     "output_type": "display_data"
    },
    {
     "data": {
      "text/html": [
       "<pre style=\"white-space:pre;overflow-x:auto;line-height:normal;font-family:Menlo,'DejaVu Sans Mono',consolas,'Courier New',monospace\"><span style=\"color: #808000; text-decoration-color: #808000\">content</span>=<span style=\"color: #008000; text-decoration-color: #008000\">'Begin by guessing a 5-letter word.'</span> <span style=\"color: #808000; text-decoration-color: #808000\">id</span>=<span style=\"color: #008000; text-decoration-color: #008000\">'c4dfd948-914d-4564-a7a7-cac773716b12'</span>\n",
       "</pre>\n"
      ],
      "text/plain": [
       "\u001b[33mcontent\u001b[0m=\u001b[32m'Begin by guessing a 5-letter word.'\u001b[0m \u001b[33mid\u001b[0m=\u001b[32m'c4dfd948-914d-4564-a7a7-cac773716b12'\u001b[0m\n"
      ]
     },
     "metadata": {},
     "output_type": "display_data"
    },
    {
     "data": {
      "text/html": [
       "<pre style=\"white-space:pre;overflow-x:auto;line-height:normal;font-family:Menlo,'DejaVu Sans Mono',consolas,'Courier New',monospace\"><span style=\"color: #808000; text-decoration-color: #808000\">content</span>=<span style=\"color: #008000; text-decoration-color: #008000\">'Attempt 0: CRANE'</span> <span style=\"color: #808000; text-decoration-color: #808000\">id</span>=<span style=\"color: #008000; text-decoration-color: #008000\">'a29ff3e9-ee19-4d9d-9320-02e99a7b34e3'</span>\n",
       "</pre>\n"
      ],
      "text/plain": [
       "\u001b[33mcontent\u001b[0m=\u001b[32m'Attempt 0: CRANE'\u001b[0m \u001b[33mid\u001b[0m=\u001b[32m'a29ff3e9-ee19-4d9d-9320-02e99a7b34e3'\u001b[0m\n"
      ]
     },
     "metadata": {},
     "output_type": "display_data"
    },
    {
     "data": {
      "text/html": [
       "<pre style=\"white-space:pre;overflow-x:auto;line-height:normal;font-family:Menlo,'DejaVu Sans Mono',consolas,'Courier New',monospace\"><span style=\"color: #808000; text-decoration-color: #808000\">content</span>=<span style=\"color: #008000; text-decoration-color: #008000\">'\\nFeedback for Attempt 1: Position 0: C is red Position 1: R is red Position 2: A is red Position 3: N is </span>\n",
       "<span style=\"color: #008000; text-decoration-color: #008000\">yellow Position 4: E is yellow\\n'</span> <span style=\"color: #808000; text-decoration-color: #808000\">id</span>=<span style=\"color: #008000; text-decoration-color: #008000\">'757e2e82-55f8-4abd-a98c-b8b6df1709cb'</span>\n",
       "</pre>\n"
      ],
      "text/plain": [
       "\u001b[33mcontent\u001b[0m=\u001b[32m'\\nFeedback for Attempt 1: Position 0: C is red Position 1: R is red Position 2: A is red Position 3: N is \u001b[0m\n",
       "\u001b[32myellow Position 4: E is yellow\\n'\u001b[0m \u001b[33mid\u001b[0m=\u001b[32m'757e2e82-55f8-4abd-a98c-b8b6df1709cb'\u001b[0m\n"
      ]
     },
     "metadata": {},
     "output_type": "display_data"
    },
    {
     "data": {
      "text/html": [
       "<pre style=\"white-space:pre;overflow-x:auto;line-height:normal;font-family:Menlo,'DejaVu Sans Mono',consolas,'Courier New',monospace\">--------------------------------------------------------------------------------\n",
       "</pre>\n"
      ],
      "text/plain": [
       "--------------------------------------------------------------------------------\n"
      ]
     },
     "metadata": {},
     "output_type": "display_data"
    },
    {
     "data": {
      "text/html": [
       "<pre style=\"white-space:pre;overflow-x:auto;line-height:normal;font-family:Menlo,'DejaVu Sans Mono',consolas,'Courier New',monospace\">--------------------------------------------------------------------------------\n",
       "</pre>\n"
      ],
      "text/plain": [
       "--------------------------------------------------------------------------------\n"
      ]
     },
     "metadata": {},
     "output_type": "display_data"
    },
    {
     "data": {
      "text/html": [
       "<pre style=\"white-space:pre;overflow-x:auto;line-height:normal;font-family:Menlo,'DejaVu Sans Mono',consolas,'Courier New',monospace\">Messages to LLM:\n",
       "</pre>\n"
      ],
      "text/plain": [
       "Messages to LLM:\n"
      ]
     },
     "metadata": {},
     "output_type": "display_data"
    },
    {
     "data": {
      "text/html": [
       "<pre style=\"white-space:pre;overflow-x:auto;line-height:normal;font-family:Menlo,'DejaVu Sans Mono',consolas,'Courier New',monospace\"><span style=\"color: #808000; text-decoration-color: #808000\">content</span>=<span style=\"color: #008000; text-decoration-color: #008000\">'You are playing Wordle. You have 6 attempts to guess a 5-letter English word. \\nAfter each guess, you will</span>\n",
       "<span style=\"color: #008000; text-decoration-color: #008000\">receive feedback on each letter in your guess, which you can use to refine your next guess.\\n\\nA status of:\\n- </span>\n",
       "<span style=\"color: #008000; text-decoration-color: #008000\">`red` means that the letter does not appear in the word in any position - you should not use this letter in any </span>\n",
       "<span style=\"color: #008000; text-decoration-color: #008000\">future guesses\\n- `yellow` means that the letter appears in the word, but not in that position - you should try </span>\n",
       "<span style=\"color: #008000; text-decoration-color: #008000\">this letter in a different position\\n- `green` means that the letter appears in the word in that position - you </span>\n",
       "<span style=\"color: #008000; text-decoration-color: #008000\">should keep this letter in that position in future guesses.'</span> <span style=\"color: #808000; text-decoration-color: #808000\">id</span>=<span style=\"color: #008000; text-decoration-color: #008000\">'b166f61f-488d-495e-a5c7-186538de9f52'</span>\n",
       "</pre>\n"
      ],
      "text/plain": [
       "\u001b[33mcontent\u001b[0m=\u001b[32m'You are playing Wordle. You have 6 attempts to guess a 5-letter English word. \\nAfter each guess, you will\u001b[0m\n",
       "\u001b[32mreceive feedback on each letter in your guess, which you can use to refine your next guess.\\n\\nA status of:\\n- \u001b[0m\n",
       "\u001b[32m`red` means that the letter does not appear in the word in any position - you should not use this letter in any \u001b[0m\n",
       "\u001b[32mfuture guesses\\n- `yellow` means that the letter appears in the word, but not in that position - you should try \u001b[0m\n",
       "\u001b[32mthis letter in a different position\\n- `green` means that the letter appears in the word in that position - you \u001b[0m\n",
       "\u001b[32mshould keep this letter in that position in future guesses.'\u001b[0m \u001b[33mid\u001b[0m=\u001b[32m'b166f61f-488d-495e-a5c7-186538de9f52'\u001b[0m\n"
      ]
     },
     "metadata": {},
     "output_type": "display_data"
    },
    {
     "data": {
      "text/html": [
       "<pre style=\"white-space:pre;overflow-x:auto;line-height:normal;font-family:Menlo,'DejaVu Sans Mono',consolas,'Courier New',monospace\"><span style=\"color: #808000; text-decoration-color: #808000\">content</span>=<span style=\"color: #008000; text-decoration-color: #008000\">'Begin by guessing a 5-letter word.'</span> <span style=\"color: #808000; text-decoration-color: #808000\">id</span>=<span style=\"color: #008000; text-decoration-color: #008000\">'c4dfd948-914d-4564-a7a7-cac773716b12'</span>\n",
       "</pre>\n"
      ],
      "text/plain": [
       "\u001b[33mcontent\u001b[0m=\u001b[32m'Begin by guessing a 5-letter word.'\u001b[0m \u001b[33mid\u001b[0m=\u001b[32m'c4dfd948-914d-4564-a7a7-cac773716b12'\u001b[0m\n"
      ]
     },
     "metadata": {},
     "output_type": "display_data"
    },
    {
     "data": {
      "text/html": [
       "<pre style=\"white-space:pre;overflow-x:auto;line-height:normal;font-family:Menlo,'DejaVu Sans Mono',consolas,'Courier New',monospace\"><span style=\"color: #808000; text-decoration-color: #808000\">content</span>=<span style=\"color: #008000; text-decoration-color: #008000\">'Attempt 0: CRANE'</span> <span style=\"color: #808000; text-decoration-color: #808000\">id</span>=<span style=\"color: #008000; text-decoration-color: #008000\">'a29ff3e9-ee19-4d9d-9320-02e99a7b34e3'</span>\n",
       "</pre>\n"
      ],
      "text/plain": [
       "\u001b[33mcontent\u001b[0m=\u001b[32m'Attempt 0: CRANE'\u001b[0m \u001b[33mid\u001b[0m=\u001b[32m'a29ff3e9-ee19-4d9d-9320-02e99a7b34e3'\u001b[0m\n"
      ]
     },
     "metadata": {},
     "output_type": "display_data"
    },
    {
     "data": {
      "text/html": [
       "<pre style=\"white-space:pre;overflow-x:auto;line-height:normal;font-family:Menlo,'DejaVu Sans Mono',consolas,'Courier New',monospace\"><span style=\"color: #808000; text-decoration-color: #808000\">content</span>=<span style=\"color: #008000; text-decoration-color: #008000\">'\\nFeedback for Attempt 1: Position 0: C is red Position 1: R is red Position 2: A is red Position 3: N is </span>\n",
       "<span style=\"color: #008000; text-decoration-color: #008000\">yellow Position 4: E is yellow\\n'</span> <span style=\"color: #808000; text-decoration-color: #808000\">id</span>=<span style=\"color: #008000; text-decoration-color: #008000\">'757e2e82-55f8-4abd-a98c-b8b6df1709cb'</span>\n",
       "</pre>\n"
      ],
      "text/plain": [
       "\u001b[33mcontent\u001b[0m=\u001b[32m'\\nFeedback for Attempt 1: Position 0: C is red Position 1: R is red Position 2: A is red Position 3: N is \u001b[0m\n",
       "\u001b[32myellow Position 4: E is yellow\\n'\u001b[0m \u001b[33mid\u001b[0m=\u001b[32m'757e2e82-55f8-4abd-a98c-b8b6df1709cb'\u001b[0m\n"
      ]
     },
     "metadata": {},
     "output_type": "display_data"
    },
    {
     "data": {
      "text/html": [
       "<pre style=\"white-space:pre;overflow-x:auto;line-height:normal;font-family:Menlo,'DejaVu Sans Mono',consolas,'Courier New',monospace\"><span style=\"color: #808000; text-decoration-color: #808000\">content</span>=<span style=\"color: #008000; text-decoration-color: #008000\">'Attempt 1: STINE'</span> <span style=\"color: #808000; text-decoration-color: #808000\">id</span>=<span style=\"color: #008000; text-decoration-color: #008000\">'4eddc93b-f393-4be7-b4f4-a27aedd2ed40'</span>\n",
       "</pre>\n"
      ],
      "text/plain": [
       "\u001b[33mcontent\u001b[0m=\u001b[32m'Attempt 1: STINE'\u001b[0m \u001b[33mid\u001b[0m=\u001b[32m'4eddc93b-f393-4be7-b4f4-a27aedd2ed40'\u001b[0m\n"
      ]
     },
     "metadata": {},
     "output_type": "display_data"
    },
    {
     "data": {
      "text/html": [
       "<pre style=\"white-space:pre;overflow-x:auto;line-height:normal;font-family:Menlo,'DejaVu Sans Mono',consolas,'Courier New',monospace\"><span style=\"color: #808000; text-decoration-color: #808000\">content</span>=<span style=\"color: #008000; text-decoration-color: #008000\">'\\nFeedback for Attempt 2: Position 0: S is red Position 1: T is red Position 2: I is yellow Position 3: N </span>\n",
       "<span style=\"color: #008000; text-decoration-color: #008000\">is yellow Position 4: E is yellow\\n'</span> <span style=\"color: #808000; text-decoration-color: #808000\">id</span>=<span style=\"color: #008000; text-decoration-color: #008000\">'1191085e-da7b-4188-a83f-494db366dade'</span>\n",
       "</pre>\n"
      ],
      "text/plain": [
       "\u001b[33mcontent\u001b[0m=\u001b[32m'\\nFeedback for Attempt 2: Position 0: S is red Position 1: T is red Position 2: I is yellow Position 3: N \u001b[0m\n",
       "\u001b[32mis yellow Position 4: E is yellow\\n'\u001b[0m \u001b[33mid\u001b[0m=\u001b[32m'1191085e-da7b-4188-a83f-494db366dade'\u001b[0m\n"
      ]
     },
     "metadata": {},
     "output_type": "display_data"
    },
    {
     "data": {
      "text/html": [
       "<pre style=\"white-space:pre;overflow-x:auto;line-height:normal;font-family:Menlo,'DejaVu Sans Mono',consolas,'Courier New',monospace\">--------------------------------------------------------------------------------\n",
       "</pre>\n"
      ],
      "text/plain": [
       "--------------------------------------------------------------------------------\n"
      ]
     },
     "metadata": {},
     "output_type": "display_data"
    },
    {
     "data": {
      "text/html": [
       "<pre style=\"white-space:pre;overflow-x:auto;line-height:normal;font-family:Menlo,'DejaVu Sans Mono',consolas,'Courier New',monospace\">--------------------------------------------------------------------------------\n",
       "</pre>\n"
      ],
      "text/plain": [
       "--------------------------------------------------------------------------------\n"
      ]
     },
     "metadata": {},
     "output_type": "display_data"
    },
    {
     "data": {
      "text/html": [
       "<pre style=\"white-space:pre;overflow-x:auto;line-height:normal;font-family:Menlo,'DejaVu Sans Mono',consolas,'Courier New',monospace\">Messages to LLM:\n",
       "</pre>\n"
      ],
      "text/plain": [
       "Messages to LLM:\n"
      ]
     },
     "metadata": {},
     "output_type": "display_data"
    },
    {
     "data": {
      "text/html": [
       "<pre style=\"white-space:pre;overflow-x:auto;line-height:normal;font-family:Menlo,'DejaVu Sans Mono',consolas,'Courier New',monospace\"><span style=\"color: #808000; text-decoration-color: #808000\">content</span>=<span style=\"color: #008000; text-decoration-color: #008000\">'You are playing Wordle. You have 6 attempts to guess a 5-letter English word. \\nAfter each guess, you will</span>\n",
       "<span style=\"color: #008000; text-decoration-color: #008000\">receive feedback on each letter in your guess, which you can use to refine your next guess.\\n\\nA status of:\\n- </span>\n",
       "<span style=\"color: #008000; text-decoration-color: #008000\">`red` means that the letter does not appear in the word in any position - you should not use this letter in any </span>\n",
       "<span style=\"color: #008000; text-decoration-color: #008000\">future guesses\\n- `yellow` means that the letter appears in the word, but not in that position - you should try </span>\n",
       "<span style=\"color: #008000; text-decoration-color: #008000\">this letter in a different position\\n- `green` means that the letter appears in the word in that position - you </span>\n",
       "<span style=\"color: #008000; text-decoration-color: #008000\">should keep this letter in that position in future guesses.'</span> <span style=\"color: #808000; text-decoration-color: #808000\">id</span>=<span style=\"color: #008000; text-decoration-color: #008000\">'b166f61f-488d-495e-a5c7-186538de9f52'</span>\n",
       "</pre>\n"
      ],
      "text/plain": [
       "\u001b[33mcontent\u001b[0m=\u001b[32m'You are playing Wordle. You have 6 attempts to guess a 5-letter English word. \\nAfter each guess, you will\u001b[0m\n",
       "\u001b[32mreceive feedback on each letter in your guess, which you can use to refine your next guess.\\n\\nA status of:\\n- \u001b[0m\n",
       "\u001b[32m`red` means that the letter does not appear in the word in any position - you should not use this letter in any \u001b[0m\n",
       "\u001b[32mfuture guesses\\n- `yellow` means that the letter appears in the word, but not in that position - you should try \u001b[0m\n",
       "\u001b[32mthis letter in a different position\\n- `green` means that the letter appears in the word in that position - you \u001b[0m\n",
       "\u001b[32mshould keep this letter in that position in future guesses.'\u001b[0m \u001b[33mid\u001b[0m=\u001b[32m'b166f61f-488d-495e-a5c7-186538de9f52'\u001b[0m\n"
      ]
     },
     "metadata": {},
     "output_type": "display_data"
    },
    {
     "data": {
      "text/html": [
       "<pre style=\"white-space:pre;overflow-x:auto;line-height:normal;font-family:Menlo,'DejaVu Sans Mono',consolas,'Courier New',monospace\"><span style=\"color: #808000; text-decoration-color: #808000\">content</span>=<span style=\"color: #008000; text-decoration-color: #008000\">'Begin by guessing a 5-letter word.'</span> <span style=\"color: #808000; text-decoration-color: #808000\">id</span>=<span style=\"color: #008000; text-decoration-color: #008000\">'c4dfd948-914d-4564-a7a7-cac773716b12'</span>\n",
       "</pre>\n"
      ],
      "text/plain": [
       "\u001b[33mcontent\u001b[0m=\u001b[32m'Begin by guessing a 5-letter word.'\u001b[0m \u001b[33mid\u001b[0m=\u001b[32m'c4dfd948-914d-4564-a7a7-cac773716b12'\u001b[0m\n"
      ]
     },
     "metadata": {},
     "output_type": "display_data"
    },
    {
     "data": {
      "text/html": [
       "<pre style=\"white-space:pre;overflow-x:auto;line-height:normal;font-family:Menlo,'DejaVu Sans Mono',consolas,'Courier New',monospace\"><span style=\"color: #808000; text-decoration-color: #808000\">content</span>=<span style=\"color: #008000; text-decoration-color: #008000\">'Attempt 0: CRANE'</span> <span style=\"color: #808000; text-decoration-color: #808000\">id</span>=<span style=\"color: #008000; text-decoration-color: #008000\">'a29ff3e9-ee19-4d9d-9320-02e99a7b34e3'</span>\n",
       "</pre>\n"
      ],
      "text/plain": [
       "\u001b[33mcontent\u001b[0m=\u001b[32m'Attempt 0: CRANE'\u001b[0m \u001b[33mid\u001b[0m=\u001b[32m'a29ff3e9-ee19-4d9d-9320-02e99a7b34e3'\u001b[0m\n"
      ]
     },
     "metadata": {},
     "output_type": "display_data"
    },
    {
     "data": {
      "text/html": [
       "<pre style=\"white-space:pre;overflow-x:auto;line-height:normal;font-family:Menlo,'DejaVu Sans Mono',consolas,'Courier New',monospace\"><span style=\"color: #808000; text-decoration-color: #808000\">content</span>=<span style=\"color: #008000; text-decoration-color: #008000\">'\\nFeedback for Attempt 1: Position 0: C is red Position 1: R is red Position 2: A is red Position 3: N is </span>\n",
       "<span style=\"color: #008000; text-decoration-color: #008000\">yellow Position 4: E is yellow\\n'</span> <span style=\"color: #808000; text-decoration-color: #808000\">id</span>=<span style=\"color: #008000; text-decoration-color: #008000\">'757e2e82-55f8-4abd-a98c-b8b6df1709cb'</span>\n",
       "</pre>\n"
      ],
      "text/plain": [
       "\u001b[33mcontent\u001b[0m=\u001b[32m'\\nFeedback for Attempt 1: Position 0: C is red Position 1: R is red Position 2: A is red Position 3: N is \u001b[0m\n",
       "\u001b[32myellow Position 4: E is yellow\\n'\u001b[0m \u001b[33mid\u001b[0m=\u001b[32m'757e2e82-55f8-4abd-a98c-b8b6df1709cb'\u001b[0m\n"
      ]
     },
     "metadata": {},
     "output_type": "display_data"
    },
    {
     "data": {
      "text/html": [
       "<pre style=\"white-space:pre;overflow-x:auto;line-height:normal;font-family:Menlo,'DejaVu Sans Mono',consolas,'Courier New',monospace\"><span style=\"color: #808000; text-decoration-color: #808000\">content</span>=<span style=\"color: #008000; text-decoration-color: #008000\">'Attempt 1: STINE'</span> <span style=\"color: #808000; text-decoration-color: #808000\">id</span>=<span style=\"color: #008000; text-decoration-color: #008000\">'4eddc93b-f393-4be7-b4f4-a27aedd2ed40'</span>\n",
       "</pre>\n"
      ],
      "text/plain": [
       "\u001b[33mcontent\u001b[0m=\u001b[32m'Attempt 1: STINE'\u001b[0m \u001b[33mid\u001b[0m=\u001b[32m'4eddc93b-f393-4be7-b4f4-a27aedd2ed40'\u001b[0m\n"
      ]
     },
     "metadata": {},
     "output_type": "display_data"
    },
    {
     "data": {
      "text/html": [
       "<pre style=\"white-space:pre;overflow-x:auto;line-height:normal;font-family:Menlo,'DejaVu Sans Mono',consolas,'Courier New',monospace\"><span style=\"color: #808000; text-decoration-color: #808000\">content</span>=<span style=\"color: #008000; text-decoration-color: #008000\">'\\nFeedback for Attempt 2: Position 0: S is red Position 1: T is red Position 2: I is yellow Position 3: N </span>\n",
       "<span style=\"color: #008000; text-decoration-color: #008000\">is yellow Position 4: E is yellow\\n'</span> <span style=\"color: #808000; text-decoration-color: #808000\">id</span>=<span style=\"color: #008000; text-decoration-color: #008000\">'1191085e-da7b-4188-a83f-494db366dade'</span>\n",
       "</pre>\n"
      ],
      "text/plain": [
       "\u001b[33mcontent\u001b[0m=\u001b[32m'\\nFeedback for Attempt 2: Position 0: S is red Position 1: T is red Position 2: I is yellow Position 3: N \u001b[0m\n",
       "\u001b[32mis yellow Position 4: E is yellow\\n'\u001b[0m \u001b[33mid\u001b[0m=\u001b[32m'1191085e-da7b-4188-a83f-494db366dade'\u001b[0m\n"
      ]
     },
     "metadata": {},
     "output_type": "display_data"
    },
    {
     "data": {
      "text/html": [
       "<pre style=\"white-space:pre;overflow-x:auto;line-height:normal;font-family:Menlo,'DejaVu Sans Mono',consolas,'Courier New',monospace\"><span style=\"color: #808000; text-decoration-color: #808000\">content</span>=<span style=\"color: #008000; text-decoration-color: #008000\">'Attempt 2: PLINE'</span> <span style=\"color: #808000; text-decoration-color: #808000\">id</span>=<span style=\"color: #008000; text-decoration-color: #008000\">'b1601db7-b386-4776-8a05-5beac623bfe4'</span>\n",
       "</pre>\n"
      ],
      "text/plain": [
       "\u001b[33mcontent\u001b[0m=\u001b[32m'Attempt 2: PLINE'\u001b[0m \u001b[33mid\u001b[0m=\u001b[32m'b1601db7-b386-4776-8a05-5beac623bfe4'\u001b[0m\n"
      ]
     },
     "metadata": {},
     "output_type": "display_data"
    },
    {
     "data": {
      "text/html": [
       "<pre style=\"white-space:pre;overflow-x:auto;line-height:normal;font-family:Menlo,'DejaVu Sans Mono',consolas,'Courier New',monospace\"><span style=\"color: #808000; text-decoration-color: #808000\">content</span>=<span style=\"color: #008000; text-decoration-color: #008000\">'\\nFeedback for Attempt 3: Position 0: P is red Position 1: L is red Position 2: I is yellow Position 3: N </span>\n",
       "<span style=\"color: #008000; text-decoration-color: #008000\">is yellow Position 4: E is yellow\\n'</span> <span style=\"color: #808000; text-decoration-color: #808000\">id</span>=<span style=\"color: #008000; text-decoration-color: #008000\">'78b09d50-f865-407c-935e-fbd428f207b9'</span>\n",
       "</pre>\n"
      ],
      "text/plain": [
       "\u001b[33mcontent\u001b[0m=\u001b[32m'\\nFeedback for Attempt 3: Position 0: P is red Position 1: L is red Position 2: I is yellow Position 3: N \u001b[0m\n",
       "\u001b[32mis yellow Position 4: E is yellow\\n'\u001b[0m \u001b[33mid\u001b[0m=\u001b[32m'78b09d50-f865-407c-935e-fbd428f207b9'\u001b[0m\n"
      ]
     },
     "metadata": {},
     "output_type": "display_data"
    },
    {
     "data": {
      "text/html": [
       "<pre style=\"white-space:pre;overflow-x:auto;line-height:normal;font-family:Menlo,'DejaVu Sans Mono',consolas,'Courier New',monospace\">--------------------------------------------------------------------------------\n",
       "</pre>\n"
      ],
      "text/plain": [
       "--------------------------------------------------------------------------------\n"
      ]
     },
     "metadata": {},
     "output_type": "display_data"
    },
    {
     "data": {
      "text/html": [
       "<pre style=\"white-space:pre;overflow-x:auto;line-height:normal;font-family:Menlo,'DejaVu Sans Mono',consolas,'Courier New',monospace\">--------------------------------------------------------------------------------\n",
       "</pre>\n"
      ],
      "text/plain": [
       "--------------------------------------------------------------------------------\n"
      ]
     },
     "metadata": {},
     "output_type": "display_data"
    },
    {
     "data": {
      "text/html": [
       "<pre style=\"white-space:pre;overflow-x:auto;line-height:normal;font-family:Menlo,'DejaVu Sans Mono',consolas,'Courier New',monospace\">Messages to LLM:\n",
       "</pre>\n"
      ],
      "text/plain": [
       "Messages to LLM:\n"
      ]
     },
     "metadata": {},
     "output_type": "display_data"
    },
    {
     "data": {
      "text/html": [
       "<pre style=\"white-space:pre;overflow-x:auto;line-height:normal;font-family:Menlo,'DejaVu Sans Mono',consolas,'Courier New',monospace\"><span style=\"color: #808000; text-decoration-color: #808000\">content</span>=<span style=\"color: #008000; text-decoration-color: #008000\">'You are playing Wordle. You have 6 attempts to guess a 5-letter English word. \\nAfter each guess, you will</span>\n",
       "<span style=\"color: #008000; text-decoration-color: #008000\">receive feedback on each letter in your guess, which you can use to refine your next guess.\\n\\nA status of:\\n- </span>\n",
       "<span style=\"color: #008000; text-decoration-color: #008000\">`red` means that the letter does not appear in the word in any position - you should not use this letter in any </span>\n",
       "<span style=\"color: #008000; text-decoration-color: #008000\">future guesses\\n- `yellow` means that the letter appears in the word, but not in that position - you should try </span>\n",
       "<span style=\"color: #008000; text-decoration-color: #008000\">this letter in a different position\\n- `green` means that the letter appears in the word in that position - you </span>\n",
       "<span style=\"color: #008000; text-decoration-color: #008000\">should keep this letter in that position in future guesses.'</span> <span style=\"color: #808000; text-decoration-color: #808000\">id</span>=<span style=\"color: #008000; text-decoration-color: #008000\">'b166f61f-488d-495e-a5c7-186538de9f52'</span>\n",
       "</pre>\n"
      ],
      "text/plain": [
       "\u001b[33mcontent\u001b[0m=\u001b[32m'You are playing Wordle. You have 6 attempts to guess a 5-letter English word. \\nAfter each guess, you will\u001b[0m\n",
       "\u001b[32mreceive feedback on each letter in your guess, which you can use to refine your next guess.\\n\\nA status of:\\n- \u001b[0m\n",
       "\u001b[32m`red` means that the letter does not appear in the word in any position - you should not use this letter in any \u001b[0m\n",
       "\u001b[32mfuture guesses\\n- `yellow` means that the letter appears in the word, but not in that position - you should try \u001b[0m\n",
       "\u001b[32mthis letter in a different position\\n- `green` means that the letter appears in the word in that position - you \u001b[0m\n",
       "\u001b[32mshould keep this letter in that position in future guesses.'\u001b[0m \u001b[33mid\u001b[0m=\u001b[32m'b166f61f-488d-495e-a5c7-186538de9f52'\u001b[0m\n"
      ]
     },
     "metadata": {},
     "output_type": "display_data"
    },
    {
     "data": {
      "text/html": [
       "<pre style=\"white-space:pre;overflow-x:auto;line-height:normal;font-family:Menlo,'DejaVu Sans Mono',consolas,'Courier New',monospace\"><span style=\"color: #808000; text-decoration-color: #808000\">content</span>=<span style=\"color: #008000; text-decoration-color: #008000\">'Begin by guessing a 5-letter word.'</span> <span style=\"color: #808000; text-decoration-color: #808000\">id</span>=<span style=\"color: #008000; text-decoration-color: #008000\">'c4dfd948-914d-4564-a7a7-cac773716b12'</span>\n",
       "</pre>\n"
      ],
      "text/plain": [
       "\u001b[33mcontent\u001b[0m=\u001b[32m'Begin by guessing a 5-letter word.'\u001b[0m \u001b[33mid\u001b[0m=\u001b[32m'c4dfd948-914d-4564-a7a7-cac773716b12'\u001b[0m\n"
      ]
     },
     "metadata": {},
     "output_type": "display_data"
    },
    {
     "data": {
      "text/html": [
       "<pre style=\"white-space:pre;overflow-x:auto;line-height:normal;font-family:Menlo,'DejaVu Sans Mono',consolas,'Courier New',monospace\"><span style=\"color: #808000; text-decoration-color: #808000\">content</span>=<span style=\"color: #008000; text-decoration-color: #008000\">'Attempt 0: CRANE'</span> <span style=\"color: #808000; text-decoration-color: #808000\">id</span>=<span style=\"color: #008000; text-decoration-color: #008000\">'a29ff3e9-ee19-4d9d-9320-02e99a7b34e3'</span>\n",
       "</pre>\n"
      ],
      "text/plain": [
       "\u001b[33mcontent\u001b[0m=\u001b[32m'Attempt 0: CRANE'\u001b[0m \u001b[33mid\u001b[0m=\u001b[32m'a29ff3e9-ee19-4d9d-9320-02e99a7b34e3'\u001b[0m\n"
      ]
     },
     "metadata": {},
     "output_type": "display_data"
    },
    {
     "data": {
      "text/html": [
       "<pre style=\"white-space:pre;overflow-x:auto;line-height:normal;font-family:Menlo,'DejaVu Sans Mono',consolas,'Courier New',monospace\"><span style=\"color: #808000; text-decoration-color: #808000\">content</span>=<span style=\"color: #008000; text-decoration-color: #008000\">'\\nFeedback for Attempt 1: Position 0: C is red Position 1: R is red Position 2: A is red Position 3: N is </span>\n",
       "<span style=\"color: #008000; text-decoration-color: #008000\">yellow Position 4: E is yellow\\n'</span> <span style=\"color: #808000; text-decoration-color: #808000\">id</span>=<span style=\"color: #008000; text-decoration-color: #008000\">'757e2e82-55f8-4abd-a98c-b8b6df1709cb'</span>\n",
       "</pre>\n"
      ],
      "text/plain": [
       "\u001b[33mcontent\u001b[0m=\u001b[32m'\\nFeedback for Attempt 1: Position 0: C is red Position 1: R is red Position 2: A is red Position 3: N is \u001b[0m\n",
       "\u001b[32myellow Position 4: E is yellow\\n'\u001b[0m \u001b[33mid\u001b[0m=\u001b[32m'757e2e82-55f8-4abd-a98c-b8b6df1709cb'\u001b[0m\n"
      ]
     },
     "metadata": {},
     "output_type": "display_data"
    },
    {
     "data": {
      "text/html": [
       "<pre style=\"white-space:pre;overflow-x:auto;line-height:normal;font-family:Menlo,'DejaVu Sans Mono',consolas,'Courier New',monospace\"><span style=\"color: #808000; text-decoration-color: #808000\">content</span>=<span style=\"color: #008000; text-decoration-color: #008000\">'Attempt 1: STINE'</span> <span style=\"color: #808000; text-decoration-color: #808000\">id</span>=<span style=\"color: #008000; text-decoration-color: #008000\">'4eddc93b-f393-4be7-b4f4-a27aedd2ed40'</span>\n",
       "</pre>\n"
      ],
      "text/plain": [
       "\u001b[33mcontent\u001b[0m=\u001b[32m'Attempt 1: STINE'\u001b[0m \u001b[33mid\u001b[0m=\u001b[32m'4eddc93b-f393-4be7-b4f4-a27aedd2ed40'\u001b[0m\n"
      ]
     },
     "metadata": {},
     "output_type": "display_data"
    },
    {
     "data": {
      "text/html": [
       "<pre style=\"white-space:pre;overflow-x:auto;line-height:normal;font-family:Menlo,'DejaVu Sans Mono',consolas,'Courier New',monospace\"><span style=\"color: #808000; text-decoration-color: #808000\">content</span>=<span style=\"color: #008000; text-decoration-color: #008000\">'\\nFeedback for Attempt 2: Position 0: S is red Position 1: T is red Position 2: I is yellow Position 3: N </span>\n",
       "<span style=\"color: #008000; text-decoration-color: #008000\">is yellow Position 4: E is yellow\\n'</span> <span style=\"color: #808000; text-decoration-color: #808000\">id</span>=<span style=\"color: #008000; text-decoration-color: #008000\">'1191085e-da7b-4188-a83f-494db366dade'</span>\n",
       "</pre>\n"
      ],
      "text/plain": [
       "\u001b[33mcontent\u001b[0m=\u001b[32m'\\nFeedback for Attempt 2: Position 0: S is red Position 1: T is red Position 2: I is yellow Position 3: N \u001b[0m\n",
       "\u001b[32mis yellow Position 4: E is yellow\\n'\u001b[0m \u001b[33mid\u001b[0m=\u001b[32m'1191085e-da7b-4188-a83f-494db366dade'\u001b[0m\n"
      ]
     },
     "metadata": {},
     "output_type": "display_data"
    },
    {
     "data": {
      "text/html": [
       "<pre style=\"white-space:pre;overflow-x:auto;line-height:normal;font-family:Menlo,'DejaVu Sans Mono',consolas,'Courier New',monospace\"><span style=\"color: #808000; text-decoration-color: #808000\">content</span>=<span style=\"color: #008000; text-decoration-color: #008000\">'Attempt 2: PLINE'</span> <span style=\"color: #808000; text-decoration-color: #808000\">id</span>=<span style=\"color: #008000; text-decoration-color: #008000\">'b1601db7-b386-4776-8a05-5beac623bfe4'</span>\n",
       "</pre>\n"
      ],
      "text/plain": [
       "\u001b[33mcontent\u001b[0m=\u001b[32m'Attempt 2: PLINE'\u001b[0m \u001b[33mid\u001b[0m=\u001b[32m'b1601db7-b386-4776-8a05-5beac623bfe4'\u001b[0m\n"
      ]
     },
     "metadata": {},
     "output_type": "display_data"
    },
    {
     "data": {
      "text/html": [
       "<pre style=\"white-space:pre;overflow-x:auto;line-height:normal;font-family:Menlo,'DejaVu Sans Mono',consolas,'Courier New',monospace\"><span style=\"color: #808000; text-decoration-color: #808000\">content</span>=<span style=\"color: #008000; text-decoration-color: #008000\">'\\nFeedback for Attempt 3: Position 0: P is red Position 1: L is red Position 2: I is yellow Position 3: N </span>\n",
       "<span style=\"color: #008000; text-decoration-color: #008000\">is yellow Position 4: E is yellow\\n'</span> <span style=\"color: #808000; text-decoration-color: #808000\">id</span>=<span style=\"color: #008000; text-decoration-color: #008000\">'78b09d50-f865-407c-935e-fbd428f207b9'</span>\n",
       "</pre>\n"
      ],
      "text/plain": [
       "\u001b[33mcontent\u001b[0m=\u001b[32m'\\nFeedback for Attempt 3: Position 0: P is red Position 1: L is red Position 2: I is yellow Position 3: N \u001b[0m\n",
       "\u001b[32mis yellow Position 4: E is yellow\\n'\u001b[0m \u001b[33mid\u001b[0m=\u001b[32m'78b09d50-f865-407c-935e-fbd428f207b9'\u001b[0m\n"
      ]
     },
     "metadata": {},
     "output_type": "display_data"
    },
    {
     "data": {
      "text/html": [
       "<pre style=\"white-space:pre;overflow-x:auto;line-height:normal;font-family:Menlo,'DejaVu Sans Mono',consolas,'Courier New',monospace\"><span style=\"color: #808000; text-decoration-color: #808000\">content</span>=<span style=\"color: #008000; text-decoration-color: #008000\">'Attempt 3: WHINE'</span> <span style=\"color: #808000; text-decoration-color: #808000\">id</span>=<span style=\"color: #008000; text-decoration-color: #008000\">'10dfe038-875e-4fd8-aae0-0389038b353e'</span>\n",
       "</pre>\n"
      ],
      "text/plain": [
       "\u001b[33mcontent\u001b[0m=\u001b[32m'Attempt 3: WHINE'\u001b[0m \u001b[33mid\u001b[0m=\u001b[32m'10dfe038-875e-4fd8-aae0-0389038b353e'\u001b[0m\n"
      ]
     },
     "metadata": {},
     "output_type": "display_data"
    },
    {
     "data": {
      "text/html": [
       "<pre style=\"white-space:pre;overflow-x:auto;line-height:normal;font-family:Menlo,'DejaVu Sans Mono',consolas,'Courier New',monospace\"><span style=\"color: #808000; text-decoration-color: #808000\">content</span>=<span style=\"color: #008000; text-decoration-color: #008000\">'\\nFeedback for Attempt 4: Position 0: W is green Position 1: H is red Position 2: I is yellow Position 3: </span>\n",
       "<span style=\"color: #008000; text-decoration-color: #008000\">N is yellow Position 4: E is yellow\\n'</span> <span style=\"color: #808000; text-decoration-color: #808000\">id</span>=<span style=\"color: #008000; text-decoration-color: #008000\">'d6d3304b-868c-4e4c-82ce-754ee1584428'</span>\n",
       "</pre>\n"
      ],
      "text/plain": [
       "\u001b[33mcontent\u001b[0m=\u001b[32m'\\nFeedback for Attempt 4: Position 0: W is green Position 1: H is red Position 2: I is yellow Position 3: \u001b[0m\n",
       "\u001b[32mN is yellow Position 4: E is yellow\\n'\u001b[0m \u001b[33mid\u001b[0m=\u001b[32m'd6d3304b-868c-4e4c-82ce-754ee1584428'\u001b[0m\n"
      ]
     },
     "metadata": {},
     "output_type": "display_data"
    },
    {
     "data": {
      "text/html": [
       "<pre style=\"white-space:pre;overflow-x:auto;line-height:normal;font-family:Menlo,'DejaVu Sans Mono',consolas,'Courier New',monospace\">--------------------------------------------------------------------------------\n",
       "</pre>\n"
      ],
      "text/plain": [
       "--------------------------------------------------------------------------------\n"
      ]
     },
     "metadata": {},
     "output_type": "display_data"
    },
    {
     "data": {
      "text/html": [
       "<pre style=\"white-space:pre;overflow-x:auto;line-height:normal;font-family:Menlo,'DejaVu Sans Mono',consolas,'Courier New',monospace\">--------------------------------------------------------------------------------\n",
       "</pre>\n"
      ],
      "text/plain": [
       "--------------------------------------------------------------------------------\n"
      ]
     },
     "metadata": {},
     "output_type": "display_data"
    },
    {
     "data": {
      "text/html": [
       "<pre style=\"white-space:pre;overflow-x:auto;line-height:normal;font-family:Menlo,'DejaVu Sans Mono',consolas,'Courier New',monospace\">Messages to LLM:\n",
       "</pre>\n"
      ],
      "text/plain": [
       "Messages to LLM:\n"
      ]
     },
     "metadata": {},
     "output_type": "display_data"
    },
    {
     "data": {
      "text/html": [
       "<pre style=\"white-space:pre;overflow-x:auto;line-height:normal;font-family:Menlo,'DejaVu Sans Mono',consolas,'Courier New',monospace\"><span style=\"color: #808000; text-decoration-color: #808000\">content</span>=<span style=\"color: #008000; text-decoration-color: #008000\">'You are playing Wordle. You have 6 attempts to guess a 5-letter English word. \\nAfter each guess, you will</span>\n",
       "<span style=\"color: #008000; text-decoration-color: #008000\">receive feedback on each letter in your guess, which you can use to refine your next guess.\\n\\nA status of:\\n- </span>\n",
       "<span style=\"color: #008000; text-decoration-color: #008000\">`red` means that the letter does not appear in the word in any position - you should not use this letter in any </span>\n",
       "<span style=\"color: #008000; text-decoration-color: #008000\">future guesses\\n- `yellow` means that the letter appears in the word, but not in that position - you should try </span>\n",
       "<span style=\"color: #008000; text-decoration-color: #008000\">this letter in a different position\\n- `green` means that the letter appears in the word in that position - you </span>\n",
       "<span style=\"color: #008000; text-decoration-color: #008000\">should keep this letter in that position in future guesses.'</span> <span style=\"color: #808000; text-decoration-color: #808000\">id</span>=<span style=\"color: #008000; text-decoration-color: #008000\">'b166f61f-488d-495e-a5c7-186538de9f52'</span>\n",
       "</pre>\n"
      ],
      "text/plain": [
       "\u001b[33mcontent\u001b[0m=\u001b[32m'You are playing Wordle. You have 6 attempts to guess a 5-letter English word. \\nAfter each guess, you will\u001b[0m\n",
       "\u001b[32mreceive feedback on each letter in your guess, which you can use to refine your next guess.\\n\\nA status of:\\n- \u001b[0m\n",
       "\u001b[32m`red` means that the letter does not appear in the word in any position - you should not use this letter in any \u001b[0m\n",
       "\u001b[32mfuture guesses\\n- `yellow` means that the letter appears in the word, but not in that position - you should try \u001b[0m\n",
       "\u001b[32mthis letter in a different position\\n- `green` means that the letter appears in the word in that position - you \u001b[0m\n",
       "\u001b[32mshould keep this letter in that position in future guesses.'\u001b[0m \u001b[33mid\u001b[0m=\u001b[32m'b166f61f-488d-495e-a5c7-186538de9f52'\u001b[0m\n"
      ]
     },
     "metadata": {},
     "output_type": "display_data"
    },
    {
     "data": {
      "text/html": [
       "<pre style=\"white-space:pre;overflow-x:auto;line-height:normal;font-family:Menlo,'DejaVu Sans Mono',consolas,'Courier New',monospace\"><span style=\"color: #808000; text-decoration-color: #808000\">content</span>=<span style=\"color: #008000; text-decoration-color: #008000\">'Begin by guessing a 5-letter word.'</span> <span style=\"color: #808000; text-decoration-color: #808000\">id</span>=<span style=\"color: #008000; text-decoration-color: #008000\">'c4dfd948-914d-4564-a7a7-cac773716b12'</span>\n",
       "</pre>\n"
      ],
      "text/plain": [
       "\u001b[33mcontent\u001b[0m=\u001b[32m'Begin by guessing a 5-letter word.'\u001b[0m \u001b[33mid\u001b[0m=\u001b[32m'c4dfd948-914d-4564-a7a7-cac773716b12'\u001b[0m\n"
      ]
     },
     "metadata": {},
     "output_type": "display_data"
    },
    {
     "data": {
      "text/html": [
       "<pre style=\"white-space:pre;overflow-x:auto;line-height:normal;font-family:Menlo,'DejaVu Sans Mono',consolas,'Courier New',monospace\"><span style=\"color: #808000; text-decoration-color: #808000\">content</span>=<span style=\"color: #008000; text-decoration-color: #008000\">'Attempt 0: CRANE'</span> <span style=\"color: #808000; text-decoration-color: #808000\">id</span>=<span style=\"color: #008000; text-decoration-color: #008000\">'a29ff3e9-ee19-4d9d-9320-02e99a7b34e3'</span>\n",
       "</pre>\n"
      ],
      "text/plain": [
       "\u001b[33mcontent\u001b[0m=\u001b[32m'Attempt 0: CRANE'\u001b[0m \u001b[33mid\u001b[0m=\u001b[32m'a29ff3e9-ee19-4d9d-9320-02e99a7b34e3'\u001b[0m\n"
      ]
     },
     "metadata": {},
     "output_type": "display_data"
    },
    {
     "data": {
      "text/html": [
       "<pre style=\"white-space:pre;overflow-x:auto;line-height:normal;font-family:Menlo,'DejaVu Sans Mono',consolas,'Courier New',monospace\"><span style=\"color: #808000; text-decoration-color: #808000\">content</span>=<span style=\"color: #008000; text-decoration-color: #008000\">'\\nFeedback for Attempt 1: Position 0: C is red Position 1: R is red Position 2: A is red Position 3: N is </span>\n",
       "<span style=\"color: #008000; text-decoration-color: #008000\">yellow Position 4: E is yellow\\n'</span> <span style=\"color: #808000; text-decoration-color: #808000\">id</span>=<span style=\"color: #008000; text-decoration-color: #008000\">'757e2e82-55f8-4abd-a98c-b8b6df1709cb'</span>\n",
       "</pre>\n"
      ],
      "text/plain": [
       "\u001b[33mcontent\u001b[0m=\u001b[32m'\\nFeedback for Attempt 1: Position 0: C is red Position 1: R is red Position 2: A is red Position 3: N is \u001b[0m\n",
       "\u001b[32myellow Position 4: E is yellow\\n'\u001b[0m \u001b[33mid\u001b[0m=\u001b[32m'757e2e82-55f8-4abd-a98c-b8b6df1709cb'\u001b[0m\n"
      ]
     },
     "metadata": {},
     "output_type": "display_data"
    },
    {
     "data": {
      "text/html": [
       "<pre style=\"white-space:pre;overflow-x:auto;line-height:normal;font-family:Menlo,'DejaVu Sans Mono',consolas,'Courier New',monospace\"><span style=\"color: #808000; text-decoration-color: #808000\">content</span>=<span style=\"color: #008000; text-decoration-color: #008000\">'Attempt 1: STINE'</span> <span style=\"color: #808000; text-decoration-color: #808000\">id</span>=<span style=\"color: #008000; text-decoration-color: #008000\">'4eddc93b-f393-4be7-b4f4-a27aedd2ed40'</span>\n",
       "</pre>\n"
      ],
      "text/plain": [
       "\u001b[33mcontent\u001b[0m=\u001b[32m'Attempt 1: STINE'\u001b[0m \u001b[33mid\u001b[0m=\u001b[32m'4eddc93b-f393-4be7-b4f4-a27aedd2ed40'\u001b[0m\n"
      ]
     },
     "metadata": {},
     "output_type": "display_data"
    },
    {
     "data": {
      "text/html": [
       "<pre style=\"white-space:pre;overflow-x:auto;line-height:normal;font-family:Menlo,'DejaVu Sans Mono',consolas,'Courier New',monospace\"><span style=\"color: #808000; text-decoration-color: #808000\">content</span>=<span style=\"color: #008000; text-decoration-color: #008000\">'\\nFeedback for Attempt 2: Position 0: S is red Position 1: T is red Position 2: I is yellow Position 3: N </span>\n",
       "<span style=\"color: #008000; text-decoration-color: #008000\">is yellow Position 4: E is yellow\\n'</span> <span style=\"color: #808000; text-decoration-color: #808000\">id</span>=<span style=\"color: #008000; text-decoration-color: #008000\">'1191085e-da7b-4188-a83f-494db366dade'</span>\n",
       "</pre>\n"
      ],
      "text/plain": [
       "\u001b[33mcontent\u001b[0m=\u001b[32m'\\nFeedback for Attempt 2: Position 0: S is red Position 1: T is red Position 2: I is yellow Position 3: N \u001b[0m\n",
       "\u001b[32mis yellow Position 4: E is yellow\\n'\u001b[0m \u001b[33mid\u001b[0m=\u001b[32m'1191085e-da7b-4188-a83f-494db366dade'\u001b[0m\n"
      ]
     },
     "metadata": {},
     "output_type": "display_data"
    },
    {
     "data": {
      "text/html": [
       "<pre style=\"white-space:pre;overflow-x:auto;line-height:normal;font-family:Menlo,'DejaVu Sans Mono',consolas,'Courier New',monospace\"><span style=\"color: #808000; text-decoration-color: #808000\">content</span>=<span style=\"color: #008000; text-decoration-color: #008000\">'Attempt 2: PLINE'</span> <span style=\"color: #808000; text-decoration-color: #808000\">id</span>=<span style=\"color: #008000; text-decoration-color: #008000\">'b1601db7-b386-4776-8a05-5beac623bfe4'</span>\n",
       "</pre>\n"
      ],
      "text/plain": [
       "\u001b[33mcontent\u001b[0m=\u001b[32m'Attempt 2: PLINE'\u001b[0m \u001b[33mid\u001b[0m=\u001b[32m'b1601db7-b386-4776-8a05-5beac623bfe4'\u001b[0m\n"
      ]
     },
     "metadata": {},
     "output_type": "display_data"
    },
    {
     "data": {
      "text/html": [
       "<pre style=\"white-space:pre;overflow-x:auto;line-height:normal;font-family:Menlo,'DejaVu Sans Mono',consolas,'Courier New',monospace\"><span style=\"color: #808000; text-decoration-color: #808000\">content</span>=<span style=\"color: #008000; text-decoration-color: #008000\">'\\nFeedback for Attempt 3: Position 0: P is red Position 1: L is red Position 2: I is yellow Position 3: N </span>\n",
       "<span style=\"color: #008000; text-decoration-color: #008000\">is yellow Position 4: E is yellow\\n'</span> <span style=\"color: #808000; text-decoration-color: #808000\">id</span>=<span style=\"color: #008000; text-decoration-color: #008000\">'78b09d50-f865-407c-935e-fbd428f207b9'</span>\n",
       "</pre>\n"
      ],
      "text/plain": [
       "\u001b[33mcontent\u001b[0m=\u001b[32m'\\nFeedback for Attempt 3: Position 0: P is red Position 1: L is red Position 2: I is yellow Position 3: N \u001b[0m\n",
       "\u001b[32mis yellow Position 4: E is yellow\\n'\u001b[0m \u001b[33mid\u001b[0m=\u001b[32m'78b09d50-f865-407c-935e-fbd428f207b9'\u001b[0m\n"
      ]
     },
     "metadata": {},
     "output_type": "display_data"
    },
    {
     "data": {
      "text/html": [
       "<pre style=\"white-space:pre;overflow-x:auto;line-height:normal;font-family:Menlo,'DejaVu Sans Mono',consolas,'Courier New',monospace\"><span style=\"color: #808000; text-decoration-color: #808000\">content</span>=<span style=\"color: #008000; text-decoration-color: #008000\">'Attempt 3: WHINE'</span> <span style=\"color: #808000; text-decoration-color: #808000\">id</span>=<span style=\"color: #008000; text-decoration-color: #008000\">'10dfe038-875e-4fd8-aae0-0389038b353e'</span>\n",
       "</pre>\n"
      ],
      "text/plain": [
       "\u001b[33mcontent\u001b[0m=\u001b[32m'Attempt 3: WHINE'\u001b[0m \u001b[33mid\u001b[0m=\u001b[32m'10dfe038-875e-4fd8-aae0-0389038b353e'\u001b[0m\n"
      ]
     },
     "metadata": {},
     "output_type": "display_data"
    },
    {
     "data": {
      "text/html": [
       "<pre style=\"white-space:pre;overflow-x:auto;line-height:normal;font-family:Menlo,'DejaVu Sans Mono',consolas,'Courier New',monospace\"><span style=\"color: #808000; text-decoration-color: #808000\">content</span>=<span style=\"color: #008000; text-decoration-color: #008000\">'\\nFeedback for Attempt 4: Position 0: W is green Position 1: H is red Position 2: I is yellow Position 3: </span>\n",
       "<span style=\"color: #008000; text-decoration-color: #008000\">N is yellow Position 4: E is yellow\\n'</span> <span style=\"color: #808000; text-decoration-color: #808000\">id</span>=<span style=\"color: #008000; text-decoration-color: #008000\">'d6d3304b-868c-4e4c-82ce-754ee1584428'</span>\n",
       "</pre>\n"
      ],
      "text/plain": [
       "\u001b[33mcontent\u001b[0m=\u001b[32m'\\nFeedback for Attempt 4: Position 0: W is green Position 1: H is red Position 2: I is yellow Position 3: \u001b[0m\n",
       "\u001b[32mN is yellow Position 4: E is yellow\\n'\u001b[0m \u001b[33mid\u001b[0m=\u001b[32m'd6d3304b-868c-4e4c-82ce-754ee1584428'\u001b[0m\n"
      ]
     },
     "metadata": {},
     "output_type": "display_data"
    },
    {
     "data": {
      "text/html": [
       "<pre style=\"white-space:pre;overflow-x:auto;line-height:normal;font-family:Menlo,'DejaVu Sans Mono',consolas,'Courier New',monospace\"><span style=\"color: #808000; text-decoration-color: #808000\">content</span>=<span style=\"color: #008000; text-decoration-color: #008000\">'Attempt 4: WFINE'</span> <span style=\"color: #808000; text-decoration-color: #808000\">id</span>=<span style=\"color: #008000; text-decoration-color: #008000\">'ad6aa516-3ede-4ed5-b7b3-d76c8adcd8a4'</span>\n",
       "</pre>\n"
      ],
      "text/plain": [
       "\u001b[33mcontent\u001b[0m=\u001b[32m'Attempt 4: WFINE'\u001b[0m \u001b[33mid\u001b[0m=\u001b[32m'ad6aa516-3ede-4ed5-b7b3-d76c8adcd8a4'\u001b[0m\n"
      ]
     },
     "metadata": {},
     "output_type": "display_data"
    },
    {
     "data": {
      "text/html": [
       "<pre style=\"white-space:pre;overflow-x:auto;line-height:normal;font-family:Menlo,'DejaVu Sans Mono',consolas,'Courier New',monospace\"><span style=\"color: #808000; text-decoration-color: #808000\">content</span>=<span style=\"color: #008000; text-decoration-color: #008000\">'\\nFeedback for Attempt 5: Position 0: W is green Position 1: F is red Position 2: I is yellow Position 3: </span>\n",
       "<span style=\"color: #008000; text-decoration-color: #008000\">N is yellow Position 4: E is yellow\\n'</span> <span style=\"color: #808000; text-decoration-color: #808000\">id</span>=<span style=\"color: #008000; text-decoration-color: #008000\">'8382296c-718d-49b6-942f-8899620e4c95'</span>\n",
       "</pre>\n"
      ],
      "text/plain": [
       "\u001b[33mcontent\u001b[0m=\u001b[32m'\\nFeedback for Attempt 5: Position 0: W is green Position 1: F is red Position 2: I is yellow Position 3: \u001b[0m\n",
       "\u001b[32mN is yellow Position 4: E is yellow\\n'\u001b[0m \u001b[33mid\u001b[0m=\u001b[32m'8382296c-718d-49b6-942f-8899620e4c95'\u001b[0m\n"
      ]
     },
     "metadata": {},
     "output_type": "display_data"
    },
    {
     "data": {
      "text/html": [
       "<pre style=\"white-space:pre;overflow-x:auto;line-height:normal;font-family:Menlo,'DejaVu Sans Mono',consolas,'Courier New',monospace\">--------------------------------------------------------------------------------\n",
       "</pre>\n"
      ],
      "text/plain": [
       "--------------------------------------------------------------------------------\n"
      ]
     },
     "metadata": {},
     "output_type": "display_data"
    },
    {
     "data": {
      "text/html": [
       "<pre style=\"white-space:pre;overflow-x:auto;line-height:normal;font-family:Menlo,'DejaVu Sans Mono',consolas,'Courier New',monospace\">--------------------------------------------------------------------------------\n",
       "</pre>\n"
      ],
      "text/plain": [
       "--------------------------------------------------------------------------------\n"
      ]
     },
     "metadata": {},
     "output_type": "display_data"
    },
    {
     "data": {
      "text/html": [
       "<pre style=\"white-space:pre;overflow-x:auto;line-height:normal;font-family:Menlo,'DejaVu Sans Mono',consolas,'Courier New',monospace\">Messages to LLM:\n",
       "</pre>\n"
      ],
      "text/plain": [
       "Messages to LLM:\n"
      ]
     },
     "metadata": {},
     "output_type": "display_data"
    },
    {
     "data": {
      "text/html": [
       "<pre style=\"white-space:pre;overflow-x:auto;line-height:normal;font-family:Menlo,'DejaVu Sans Mono',consolas,'Courier New',monospace\"><span style=\"color: #808000; text-decoration-color: #808000\">content</span>=<span style=\"color: #008000; text-decoration-color: #008000\">'You are playing Wordle. You have 6 attempts to guess a 5-letter English word. \\nAfter each guess, you will</span>\n",
       "<span style=\"color: #008000; text-decoration-color: #008000\">receive feedback on each letter in your guess, which you can use to refine your next guess.\\n\\nA status of:\\n- </span>\n",
       "<span style=\"color: #008000; text-decoration-color: #008000\">`red` means that the letter does not appear in the word in any position - you should not use this letter in any </span>\n",
       "<span style=\"color: #008000; text-decoration-color: #008000\">future guesses\\n- `yellow` means that the letter appears in the word, but not in that position - you should try </span>\n",
       "<span style=\"color: #008000; text-decoration-color: #008000\">this letter in a different position\\n- `green` means that the letter appears in the word in that position - you </span>\n",
       "<span style=\"color: #008000; text-decoration-color: #008000\">should keep this letter in that position in future guesses.'</span> <span style=\"color: #808000; text-decoration-color: #808000\">id</span>=<span style=\"color: #008000; text-decoration-color: #008000\">'b166f61f-488d-495e-a5c7-186538de9f52'</span>\n",
       "</pre>\n"
      ],
      "text/plain": [
       "\u001b[33mcontent\u001b[0m=\u001b[32m'You are playing Wordle. You have 6 attempts to guess a 5-letter English word. \\nAfter each guess, you will\u001b[0m\n",
       "\u001b[32mreceive feedback on each letter in your guess, which you can use to refine your next guess.\\n\\nA status of:\\n- \u001b[0m\n",
       "\u001b[32m`red` means that the letter does not appear in the word in any position - you should not use this letter in any \u001b[0m\n",
       "\u001b[32mfuture guesses\\n- `yellow` means that the letter appears in the word, but not in that position - you should try \u001b[0m\n",
       "\u001b[32mthis letter in a different position\\n- `green` means that the letter appears in the word in that position - you \u001b[0m\n",
       "\u001b[32mshould keep this letter in that position in future guesses.'\u001b[0m \u001b[33mid\u001b[0m=\u001b[32m'b166f61f-488d-495e-a5c7-186538de9f52'\u001b[0m\n"
      ]
     },
     "metadata": {},
     "output_type": "display_data"
    },
    {
     "data": {
      "text/html": [
       "<pre style=\"white-space:pre;overflow-x:auto;line-height:normal;font-family:Menlo,'DejaVu Sans Mono',consolas,'Courier New',monospace\"><span style=\"color: #808000; text-decoration-color: #808000\">content</span>=<span style=\"color: #008000; text-decoration-color: #008000\">'Begin by guessing a 5-letter word.'</span> <span style=\"color: #808000; text-decoration-color: #808000\">id</span>=<span style=\"color: #008000; text-decoration-color: #008000\">'c4dfd948-914d-4564-a7a7-cac773716b12'</span>\n",
       "</pre>\n"
      ],
      "text/plain": [
       "\u001b[33mcontent\u001b[0m=\u001b[32m'Begin by guessing a 5-letter word.'\u001b[0m \u001b[33mid\u001b[0m=\u001b[32m'c4dfd948-914d-4564-a7a7-cac773716b12'\u001b[0m\n"
      ]
     },
     "metadata": {},
     "output_type": "display_data"
    },
    {
     "data": {
      "text/html": [
       "<pre style=\"white-space:pre;overflow-x:auto;line-height:normal;font-family:Menlo,'DejaVu Sans Mono',consolas,'Courier New',monospace\"><span style=\"color: #808000; text-decoration-color: #808000\">content</span>=<span style=\"color: #008000; text-decoration-color: #008000\">'Attempt 0: CRANE'</span> <span style=\"color: #808000; text-decoration-color: #808000\">id</span>=<span style=\"color: #008000; text-decoration-color: #008000\">'a29ff3e9-ee19-4d9d-9320-02e99a7b34e3'</span>\n",
       "</pre>\n"
      ],
      "text/plain": [
       "\u001b[33mcontent\u001b[0m=\u001b[32m'Attempt 0: CRANE'\u001b[0m \u001b[33mid\u001b[0m=\u001b[32m'a29ff3e9-ee19-4d9d-9320-02e99a7b34e3'\u001b[0m\n"
      ]
     },
     "metadata": {},
     "output_type": "display_data"
    },
    {
     "data": {
      "text/html": [
       "<pre style=\"white-space:pre;overflow-x:auto;line-height:normal;font-family:Menlo,'DejaVu Sans Mono',consolas,'Courier New',monospace\"><span style=\"color: #808000; text-decoration-color: #808000\">content</span>=<span style=\"color: #008000; text-decoration-color: #008000\">'\\nFeedback for Attempt 1: Position 0: C is red Position 1: R is red Position 2: A is red Position 3: N is </span>\n",
       "<span style=\"color: #008000; text-decoration-color: #008000\">yellow Position 4: E is yellow\\n'</span> <span style=\"color: #808000; text-decoration-color: #808000\">id</span>=<span style=\"color: #008000; text-decoration-color: #008000\">'757e2e82-55f8-4abd-a98c-b8b6df1709cb'</span>\n",
       "</pre>\n"
      ],
      "text/plain": [
       "\u001b[33mcontent\u001b[0m=\u001b[32m'\\nFeedback for Attempt 1: Position 0: C is red Position 1: R is red Position 2: A is red Position 3: N is \u001b[0m\n",
       "\u001b[32myellow Position 4: E is yellow\\n'\u001b[0m \u001b[33mid\u001b[0m=\u001b[32m'757e2e82-55f8-4abd-a98c-b8b6df1709cb'\u001b[0m\n"
      ]
     },
     "metadata": {},
     "output_type": "display_data"
    },
    {
     "data": {
      "text/html": [
       "<pre style=\"white-space:pre;overflow-x:auto;line-height:normal;font-family:Menlo,'DejaVu Sans Mono',consolas,'Courier New',monospace\"><span style=\"color: #808000; text-decoration-color: #808000\">content</span>=<span style=\"color: #008000; text-decoration-color: #008000\">'Attempt 1: STINE'</span> <span style=\"color: #808000; text-decoration-color: #808000\">id</span>=<span style=\"color: #008000; text-decoration-color: #008000\">'4eddc93b-f393-4be7-b4f4-a27aedd2ed40'</span>\n",
       "</pre>\n"
      ],
      "text/plain": [
       "\u001b[33mcontent\u001b[0m=\u001b[32m'Attempt 1: STINE'\u001b[0m \u001b[33mid\u001b[0m=\u001b[32m'4eddc93b-f393-4be7-b4f4-a27aedd2ed40'\u001b[0m\n"
      ]
     },
     "metadata": {},
     "output_type": "display_data"
    },
    {
     "data": {
      "text/html": [
       "<pre style=\"white-space:pre;overflow-x:auto;line-height:normal;font-family:Menlo,'DejaVu Sans Mono',consolas,'Courier New',monospace\"><span style=\"color: #808000; text-decoration-color: #808000\">content</span>=<span style=\"color: #008000; text-decoration-color: #008000\">'\\nFeedback for Attempt 2: Position 0: S is red Position 1: T is red Position 2: I is yellow Position 3: N </span>\n",
       "<span style=\"color: #008000; text-decoration-color: #008000\">is yellow Position 4: E is yellow\\n'</span> <span style=\"color: #808000; text-decoration-color: #808000\">id</span>=<span style=\"color: #008000; text-decoration-color: #008000\">'1191085e-da7b-4188-a83f-494db366dade'</span>\n",
       "</pre>\n"
      ],
      "text/plain": [
       "\u001b[33mcontent\u001b[0m=\u001b[32m'\\nFeedback for Attempt 2: Position 0: S is red Position 1: T is red Position 2: I is yellow Position 3: N \u001b[0m\n",
       "\u001b[32mis yellow Position 4: E is yellow\\n'\u001b[0m \u001b[33mid\u001b[0m=\u001b[32m'1191085e-da7b-4188-a83f-494db366dade'\u001b[0m\n"
      ]
     },
     "metadata": {},
     "output_type": "display_data"
    },
    {
     "data": {
      "text/html": [
       "<pre style=\"white-space:pre;overflow-x:auto;line-height:normal;font-family:Menlo,'DejaVu Sans Mono',consolas,'Courier New',monospace\"><span style=\"color: #808000; text-decoration-color: #808000\">content</span>=<span style=\"color: #008000; text-decoration-color: #008000\">'Attempt 2: PLINE'</span> <span style=\"color: #808000; text-decoration-color: #808000\">id</span>=<span style=\"color: #008000; text-decoration-color: #008000\">'b1601db7-b386-4776-8a05-5beac623bfe4'</span>\n",
       "</pre>\n"
      ],
      "text/plain": [
       "\u001b[33mcontent\u001b[0m=\u001b[32m'Attempt 2: PLINE'\u001b[0m \u001b[33mid\u001b[0m=\u001b[32m'b1601db7-b386-4776-8a05-5beac623bfe4'\u001b[0m\n"
      ]
     },
     "metadata": {},
     "output_type": "display_data"
    },
    {
     "data": {
      "text/html": [
       "<pre style=\"white-space:pre;overflow-x:auto;line-height:normal;font-family:Menlo,'DejaVu Sans Mono',consolas,'Courier New',monospace\"><span style=\"color: #808000; text-decoration-color: #808000\">content</span>=<span style=\"color: #008000; text-decoration-color: #008000\">'\\nFeedback for Attempt 3: Position 0: P is red Position 1: L is red Position 2: I is yellow Position 3: N </span>\n",
       "<span style=\"color: #008000; text-decoration-color: #008000\">is yellow Position 4: E is yellow\\n'</span> <span style=\"color: #808000; text-decoration-color: #808000\">id</span>=<span style=\"color: #008000; text-decoration-color: #008000\">'78b09d50-f865-407c-935e-fbd428f207b9'</span>\n",
       "</pre>\n"
      ],
      "text/plain": [
       "\u001b[33mcontent\u001b[0m=\u001b[32m'\\nFeedback for Attempt 3: Position 0: P is red Position 1: L is red Position 2: I is yellow Position 3: N \u001b[0m\n",
       "\u001b[32mis yellow Position 4: E is yellow\\n'\u001b[0m \u001b[33mid\u001b[0m=\u001b[32m'78b09d50-f865-407c-935e-fbd428f207b9'\u001b[0m\n"
      ]
     },
     "metadata": {},
     "output_type": "display_data"
    },
    {
     "data": {
      "text/html": [
       "<pre style=\"white-space:pre;overflow-x:auto;line-height:normal;font-family:Menlo,'DejaVu Sans Mono',consolas,'Courier New',monospace\"><span style=\"color: #808000; text-decoration-color: #808000\">content</span>=<span style=\"color: #008000; text-decoration-color: #008000\">'Attempt 3: WHINE'</span> <span style=\"color: #808000; text-decoration-color: #808000\">id</span>=<span style=\"color: #008000; text-decoration-color: #008000\">'10dfe038-875e-4fd8-aae0-0389038b353e'</span>\n",
       "</pre>\n"
      ],
      "text/plain": [
       "\u001b[33mcontent\u001b[0m=\u001b[32m'Attempt 3: WHINE'\u001b[0m \u001b[33mid\u001b[0m=\u001b[32m'10dfe038-875e-4fd8-aae0-0389038b353e'\u001b[0m\n"
      ]
     },
     "metadata": {},
     "output_type": "display_data"
    },
    {
     "data": {
      "text/html": [
       "<pre style=\"white-space:pre;overflow-x:auto;line-height:normal;font-family:Menlo,'DejaVu Sans Mono',consolas,'Courier New',monospace\"><span style=\"color: #808000; text-decoration-color: #808000\">content</span>=<span style=\"color: #008000; text-decoration-color: #008000\">'\\nFeedback for Attempt 4: Position 0: W is green Position 1: H is red Position 2: I is yellow Position 3: </span>\n",
       "<span style=\"color: #008000; text-decoration-color: #008000\">N is yellow Position 4: E is yellow\\n'</span> <span style=\"color: #808000; text-decoration-color: #808000\">id</span>=<span style=\"color: #008000; text-decoration-color: #008000\">'d6d3304b-868c-4e4c-82ce-754ee1584428'</span>\n",
       "</pre>\n"
      ],
      "text/plain": [
       "\u001b[33mcontent\u001b[0m=\u001b[32m'\\nFeedback for Attempt 4: Position 0: W is green Position 1: H is red Position 2: I is yellow Position 3: \u001b[0m\n",
       "\u001b[32mN is yellow Position 4: E is yellow\\n'\u001b[0m \u001b[33mid\u001b[0m=\u001b[32m'd6d3304b-868c-4e4c-82ce-754ee1584428'\u001b[0m\n"
      ]
     },
     "metadata": {},
     "output_type": "display_data"
    },
    {
     "data": {
      "text/html": [
       "<pre style=\"white-space:pre;overflow-x:auto;line-height:normal;font-family:Menlo,'DejaVu Sans Mono',consolas,'Courier New',monospace\"><span style=\"color: #808000; text-decoration-color: #808000\">content</span>=<span style=\"color: #008000; text-decoration-color: #008000\">'Attempt 4: WFINE'</span> <span style=\"color: #808000; text-decoration-color: #808000\">id</span>=<span style=\"color: #008000; text-decoration-color: #008000\">'ad6aa516-3ede-4ed5-b7b3-d76c8adcd8a4'</span>\n",
       "</pre>\n"
      ],
      "text/plain": [
       "\u001b[33mcontent\u001b[0m=\u001b[32m'Attempt 4: WFINE'\u001b[0m \u001b[33mid\u001b[0m=\u001b[32m'ad6aa516-3ede-4ed5-b7b3-d76c8adcd8a4'\u001b[0m\n"
      ]
     },
     "metadata": {},
     "output_type": "display_data"
    },
    {
     "data": {
      "text/html": [
       "<pre style=\"white-space:pre;overflow-x:auto;line-height:normal;font-family:Menlo,'DejaVu Sans Mono',consolas,'Courier New',monospace\"><span style=\"color: #808000; text-decoration-color: #808000\">content</span>=<span style=\"color: #008000; text-decoration-color: #008000\">'\\nFeedback for Attempt 5: Position 0: W is green Position 1: F is red Position 2: I is yellow Position 3: </span>\n",
       "<span style=\"color: #008000; text-decoration-color: #008000\">N is yellow Position 4: E is yellow\\n'</span> <span style=\"color: #808000; text-decoration-color: #808000\">id</span>=<span style=\"color: #008000; text-decoration-color: #008000\">'8382296c-718d-49b6-942f-8899620e4c95'</span>\n",
       "</pre>\n"
      ],
      "text/plain": [
       "\u001b[33mcontent\u001b[0m=\u001b[32m'\\nFeedback for Attempt 5: Position 0: W is green Position 1: F is red Position 2: I is yellow Position 3: \u001b[0m\n",
       "\u001b[32mN is yellow Position 4: E is yellow\\n'\u001b[0m \u001b[33mid\u001b[0m=\u001b[32m'8382296c-718d-49b6-942f-8899620e4c95'\u001b[0m\n"
      ]
     },
     "metadata": {},
     "output_type": "display_data"
    },
    {
     "data": {
      "text/html": [
       "<pre style=\"white-space:pre;overflow-x:auto;line-height:normal;font-family:Menlo,'DejaVu Sans Mono',consolas,'Courier New',monospace\"><span style=\"color: #808000; text-decoration-color: #808000\">content</span>=<span style=\"color: #008000; text-decoration-color: #008000\">'Attempt 5: WDINE'</span> <span style=\"color: #808000; text-decoration-color: #808000\">id</span>=<span style=\"color: #008000; text-decoration-color: #008000\">'c7e52189-779e-4661-94c9-45ad6ddc0237'</span>\n",
       "</pre>\n"
      ],
      "text/plain": [
       "\u001b[33mcontent\u001b[0m=\u001b[32m'Attempt 5: WDINE'\u001b[0m \u001b[33mid\u001b[0m=\u001b[32m'c7e52189-779e-4661-94c9-45ad6ddc0237'\u001b[0m\n"
      ]
     },
     "metadata": {},
     "output_type": "display_data"
    },
    {
     "data": {
      "text/html": [
       "<pre style=\"white-space:pre;overflow-x:auto;line-height:normal;font-family:Menlo,'DejaVu Sans Mono',consolas,'Courier New',monospace\"><span style=\"color: #808000; text-decoration-color: #808000\">content</span>=<span style=\"color: #008000; text-decoration-color: #008000\">'\\nFeedback for Attempt 6: Position 0: W is green Position 1: D is yellow Position 2: I is yellow Position </span>\n",
       "<span style=\"color: #008000; text-decoration-color: #008000\">3: N is yellow Position 4: E is yellow\\n'</span> <span style=\"color: #808000; text-decoration-color: #808000\">id</span>=<span style=\"color: #008000; text-decoration-color: #008000\">'c15d3ced-91b1-4765-b713-5fb67d7ea9b9'</span>\n",
       "</pre>\n"
      ],
      "text/plain": [
       "\u001b[33mcontent\u001b[0m=\u001b[32m'\\nFeedback for Attempt 6: Position 0: W is green Position 1: D is yellow Position 2: I is yellow Position \u001b[0m\n",
       "\u001b[32m3: N is yellow Position 4: E is yellow\\n'\u001b[0m \u001b[33mid\u001b[0m=\u001b[32m'c15d3ced-91b1-4765-b713-5fb67d7ea9b9'\u001b[0m\n"
      ]
     },
     "metadata": {},
     "output_type": "display_data"
    },
    {
     "data": {
      "text/html": [
       "<pre style=\"white-space:pre;overflow-x:auto;line-height:normal;font-family:Menlo,'DejaVu Sans Mono',consolas,'Courier New',monospace\">--------------------------------------------------------------------------------\n",
       "</pre>\n"
      ],
      "text/plain": [
       "--------------------------------------------------------------------------------\n"
      ]
     },
     "metadata": {},
     "output_type": "display_data"
    },
    {
     "data": {
      "text/html": [
       "<pre style=\"white-space:pre;overflow-x:auto;line-height:normal;font-family:Menlo,'DejaVu Sans Mono',consolas,'Courier New',monospace\">You have run out of attempts.\n",
       "</pre>\n"
      ],
      "text/plain": [
       "You have run out of attempts.\n"
      ]
     },
     "metadata": {},
     "output_type": "display_data"
    }
   ],
   "source": [
    "import uuid\n",
    "\n",
    "\n",
    "config = {\"configurable\": {\"thread_id\": str(uuid.uuid4())}}\n",
    "\n",
    "initial_state: AgentState = {\n",
    "    \"messages\": [SYSTEM_PROMPT, HumanMessage(\"Begin by guessing a 5-letter word.\")],\n",
    "    \"attempt_count\": 0,\n",
    "    \"target_word\": \"WIDEN\",\n",
    "    \"attempts\": [],\n",
    "    \"feedbacks\": [],\n",
    "}\n",
    "\n",
    "result = graph.invoke(initial_state, config)\n"
   ]
  },
  {
   "cell_type": "code",
   "execution_count": 8,
   "metadata": {},
   "outputs": [
    {
     "data": {
      "text/html": [
       "<pre style=\"white-space:pre;overflow-x:auto;line-height:normal;font-family:Menlo,'DejaVu Sans Mono',consolas,'Courier New',monospace\"></pre>\n"
      ],
      "text/plain": []
     },
     "metadata": {},
     "output_type": "display_data"
    },
    {
     "data": {
      "text/plain": [
       "\n",
       "\u001b[1m{\u001b[0m\n",
       "    \u001b[32m'messages'\u001b[0m: \u001b[1m[\u001b[0m\n",
       "        \u001b[1;35mSystemMessage\u001b[0m\u001b[1m(\u001b[0m\n",
       "            \u001b[33mcontent\u001b[0m=\u001b[32m'You are playing Wordle. You have 6 attempts to guess a 5-letter English word. \\nAfter each guess, you will receive feedback on each letter in your guess, which you can use to refine your next guess.\\n\\nA status of:\\n- `red` means that the letter does not appear in the word in any position - you should not use this letter in any future guesses\\n- `yellow` means that the letter appears in the word, but not in that position - you should try this letter in a different position\\n- `green` means that the letter appears in the word in that position - you should keep this letter in that position in future guesses.'\u001b[0m,\n",
       "            \u001b[33mid\u001b[0m=\u001b[32m'b166f61f-488d-495e-a5c7-186538de9f52'\u001b[0m\n",
       "        \u001b[1m)\u001b[0m,\n",
       "        \u001b[1;35mHumanMessage\u001b[0m\u001b[1m(\u001b[0m\n",
       "            \u001b[33mcontent\u001b[0m=\u001b[32m'Begin by guessing a 5-letter word.'\u001b[0m,\n",
       "            \u001b[33mid\u001b[0m=\u001b[32m'c4dfd948-914d-4564-a7a7-cac773716b12'\u001b[0m\n",
       "        \u001b[1m)\u001b[0m,\n",
       "        \u001b[1;35mAIMessage\u001b[0m\u001b[1m(\u001b[0m\u001b[33mcontent\u001b[0m=\u001b[32m'Attempt 0: CRANE'\u001b[0m, \u001b[33mid\u001b[0m=\u001b[32m'a29ff3e9-ee19-4d9d-9320-02e99a7b34e3'\u001b[0m\u001b[1m)\u001b[0m,\n",
       "        \u001b[1;35mAIMessage\u001b[0m\u001b[1m(\u001b[0m\n",
       "            \u001b[33mcontent\u001b[0m=\u001b[32m'\\nFeedback for Attempt 1: Position 0: C is red Position 1: R is red Position 2: A is red Position 3: N is yellow Position 4: E is yellow\\n'\u001b[0m,\n",
       "            \u001b[33mid\u001b[0m=\u001b[32m'757e2e82-55f8-4abd-a98c-b8b6df1709cb'\u001b[0m\n",
       "        \u001b[1m)\u001b[0m,\n",
       "        \u001b[1;35mAIMessage\u001b[0m\u001b[1m(\u001b[0m\u001b[33mcontent\u001b[0m=\u001b[32m'Attempt 1: STINE'\u001b[0m, \u001b[33mid\u001b[0m=\u001b[32m'4eddc93b-f393-4be7-b4f4-a27aedd2ed40'\u001b[0m\u001b[1m)\u001b[0m,\n",
       "        \u001b[1;35mAIMessage\u001b[0m\u001b[1m(\u001b[0m\n",
       "            \u001b[33mcontent\u001b[0m=\u001b[32m'\\nFeedback for Attempt 2: Position 0: S is red Position 1: T is red Position 2: I is yellow Position 3: N is yellow Position 4: E is yellow\\n'\u001b[0m,\n",
       "            \u001b[33mid\u001b[0m=\u001b[32m'1191085e-da7b-4188-a83f-494db366dade'\u001b[0m\n",
       "        \u001b[1m)\u001b[0m,\n",
       "        \u001b[1;35mAIMessage\u001b[0m\u001b[1m(\u001b[0m\u001b[33mcontent\u001b[0m=\u001b[32m'Attempt 2: PLINE'\u001b[0m, \u001b[33mid\u001b[0m=\u001b[32m'b1601db7-b386-4776-8a05-5beac623bfe4'\u001b[0m\u001b[1m)\u001b[0m,\n",
       "        \u001b[1;35mAIMessage\u001b[0m\u001b[1m(\u001b[0m\n",
       "            \u001b[33mcontent\u001b[0m=\u001b[32m'\\nFeedback for Attempt 3: Position 0: P is red Position 1: L is red Position 2: I is yellow Position 3: N is yellow Position 4: E is yellow\\n'\u001b[0m,\n",
       "            \u001b[33mid\u001b[0m=\u001b[32m'78b09d50-f865-407c-935e-fbd428f207b9'\u001b[0m\n",
       "        \u001b[1m)\u001b[0m,\n",
       "        \u001b[1;35mAIMessage\u001b[0m\u001b[1m(\u001b[0m\u001b[33mcontent\u001b[0m=\u001b[32m'Attempt 3: WHINE'\u001b[0m, \u001b[33mid\u001b[0m=\u001b[32m'10dfe038-875e-4fd8-aae0-0389038b353e'\u001b[0m\u001b[1m)\u001b[0m,\n",
       "        \u001b[1;35mAIMessage\u001b[0m\u001b[1m(\u001b[0m\n",
       "            \u001b[33mcontent\u001b[0m=\u001b[32m'\\nFeedback for Attempt 4: Position 0: W is green Position 1: H is red Position 2: I is yellow Position 3: N is yellow Position 4: E is yellow\\n'\u001b[0m,\n",
       "            \u001b[33mid\u001b[0m=\u001b[32m'd6d3304b-868c-4e4c-82ce-754ee1584428'\u001b[0m\n",
       "        \u001b[1m)\u001b[0m,\n",
       "        \u001b[1;35mAIMessage\u001b[0m\u001b[1m(\u001b[0m\u001b[33mcontent\u001b[0m=\u001b[32m'Attempt 4: WFINE'\u001b[0m, \u001b[33mid\u001b[0m=\u001b[32m'ad6aa516-3ede-4ed5-b7b3-d76c8adcd8a4'\u001b[0m\u001b[1m)\u001b[0m,\n",
       "        \u001b[1;35mAIMessage\u001b[0m\u001b[1m(\u001b[0m\n",
       "            \u001b[33mcontent\u001b[0m=\u001b[32m'\\nFeedback for Attempt 5: Position 0: W is green Position 1: F is red Position 2: I is yellow Position 3: N is yellow Position 4: E is yellow\\n'\u001b[0m,\n",
       "            \u001b[33mid\u001b[0m=\u001b[32m'8382296c-718d-49b6-942f-8899620e4c95'\u001b[0m\n",
       "        \u001b[1m)\u001b[0m,\n",
       "        \u001b[1;35mAIMessage\u001b[0m\u001b[1m(\u001b[0m\u001b[33mcontent\u001b[0m=\u001b[32m'Attempt 5: WDINE'\u001b[0m, \u001b[33mid\u001b[0m=\u001b[32m'c7e52189-779e-4661-94c9-45ad6ddc0237'\u001b[0m\u001b[1m)\u001b[0m,\n",
       "        \u001b[1;35mAIMessage\u001b[0m\u001b[1m(\u001b[0m\n",
       "            \u001b[33mcontent\u001b[0m=\u001b[32m'\\nFeedback for Attempt 6: Position 0: W is green Position 1: D is yellow Position 2: I is yellow Position 3: N is yellow Position 4: E is yellow\\n'\u001b[0m,\n",
       "            \u001b[33mid\u001b[0m=\u001b[32m'c15d3ced-91b1-4765-b713-5fb67d7ea9b9'\u001b[0m\n",
       "        \u001b[1m)\u001b[0m,\n",
       "        \u001b[1;35mAIMessage\u001b[0m\u001b[1m(\u001b[0m\u001b[33mcontent\u001b[0m=\u001b[32m'Attempt 6: WDINE'\u001b[0m, \u001b[33mid\u001b[0m=\u001b[32m'7a115e5a-ca18-4617-b7dd-ae7c83e12c4a'\u001b[0m\u001b[1m)\u001b[0m,\n",
       "        \u001b[1;35mAIMessage\u001b[0m\u001b[1m(\u001b[0m\n",
       "            \u001b[33mcontent\u001b[0m=\u001b[32m'\\nFeedback for Attempt 7: Position 0: W is green Position 1: D is yellow Position 2: I is yellow Position 3: N is yellow Position 4: E is yellow\\n'\u001b[0m,\n",
       "            \u001b[33mid\u001b[0m=\u001b[32m'ae9d0652-28e0-465e-be84-e64cc1bb01e7'\u001b[0m\n",
       "        \u001b[1m)\u001b[0m\n",
       "    \u001b[1m]\u001b[0m,\n",
       "    \u001b[32m'attempt_count'\u001b[0m: \u001b[1;36m7\u001b[0m,\n",
       "    \u001b[32m'target_word'\u001b[0m: \u001b[32m'WIDEN'\u001b[0m,\n",
       "    \u001b[32m'attempts'\u001b[0m: \u001b[1m[\u001b[0m\n",
       "        \u001b[1;35mAttempt\u001b[0m\u001b[1m(\u001b[0m\n",
       "            \u001b[33mletters\u001b[0m=\u001b[1m[\u001b[0m\n",
       "                \u001b[1;35mLetterAttempt\u001b[0m\u001b[1m(\u001b[0m\u001b[33mposition\u001b[0m=\u001b[1;36m0\u001b[0m, \u001b[33mletter\u001b[0m=\u001b[32m'C'\u001b[0m\u001b[1m)\u001b[0m,\n",
       "                \u001b[1;35mLetterAttempt\u001b[0m\u001b[1m(\u001b[0m\u001b[33mposition\u001b[0m=\u001b[1;36m1\u001b[0m, \u001b[33mletter\u001b[0m=\u001b[32m'R'\u001b[0m\u001b[1m)\u001b[0m,\n",
       "                \u001b[1;35mLetterAttempt\u001b[0m\u001b[1m(\u001b[0m\u001b[33mposition\u001b[0m=\u001b[1;36m2\u001b[0m, \u001b[33mletter\u001b[0m=\u001b[32m'A'\u001b[0m\u001b[1m)\u001b[0m,\n",
       "                \u001b[1;35mLetterAttempt\u001b[0m\u001b[1m(\u001b[0m\u001b[33mposition\u001b[0m=\u001b[1;36m3\u001b[0m, \u001b[33mletter\u001b[0m=\u001b[32m'N'\u001b[0m\u001b[1m)\u001b[0m,\n",
       "                \u001b[1;35mLetterAttempt\u001b[0m\u001b[1m(\u001b[0m\u001b[33mposition\u001b[0m=\u001b[1;36m4\u001b[0m, \u001b[33mletter\u001b[0m=\u001b[32m'E'\u001b[0m\u001b[1m)\u001b[0m\n",
       "            \u001b[1m]\u001b[0m\n",
       "        \u001b[1m)\u001b[0m,\n",
       "        \u001b[1;35mAttempt\u001b[0m\u001b[1m(\u001b[0m\n",
       "            \u001b[33mletters\u001b[0m=\u001b[1m[\u001b[0m\n",
       "                \u001b[1;35mLetterAttempt\u001b[0m\u001b[1m(\u001b[0m\u001b[33mposition\u001b[0m=\u001b[1;36m0\u001b[0m, \u001b[33mletter\u001b[0m=\u001b[32m'S'\u001b[0m\u001b[1m)\u001b[0m,\n",
       "                \u001b[1;35mLetterAttempt\u001b[0m\u001b[1m(\u001b[0m\u001b[33mposition\u001b[0m=\u001b[1;36m1\u001b[0m, \u001b[33mletter\u001b[0m=\u001b[32m'T'\u001b[0m\u001b[1m)\u001b[0m,\n",
       "                \u001b[1;35mLetterAttempt\u001b[0m\u001b[1m(\u001b[0m\u001b[33mposition\u001b[0m=\u001b[1;36m2\u001b[0m, \u001b[33mletter\u001b[0m=\u001b[32m'I'\u001b[0m\u001b[1m)\u001b[0m,\n",
       "                \u001b[1;35mLetterAttempt\u001b[0m\u001b[1m(\u001b[0m\u001b[33mposition\u001b[0m=\u001b[1;36m3\u001b[0m, \u001b[33mletter\u001b[0m=\u001b[32m'N'\u001b[0m\u001b[1m)\u001b[0m,\n",
       "                \u001b[1;35mLetterAttempt\u001b[0m\u001b[1m(\u001b[0m\u001b[33mposition\u001b[0m=\u001b[1;36m4\u001b[0m, \u001b[33mletter\u001b[0m=\u001b[32m'E'\u001b[0m\u001b[1m)\u001b[0m\n",
       "            \u001b[1m]\u001b[0m\n",
       "        \u001b[1m)\u001b[0m,\n",
       "        \u001b[1;35mAttempt\u001b[0m\u001b[1m(\u001b[0m\n",
       "            \u001b[33mletters\u001b[0m=\u001b[1m[\u001b[0m\n",
       "                \u001b[1;35mLetterAttempt\u001b[0m\u001b[1m(\u001b[0m\u001b[33mposition\u001b[0m=\u001b[1;36m0\u001b[0m, \u001b[33mletter\u001b[0m=\u001b[32m'P'\u001b[0m\u001b[1m)\u001b[0m,\n",
       "                \u001b[1;35mLetterAttempt\u001b[0m\u001b[1m(\u001b[0m\u001b[33mposition\u001b[0m=\u001b[1;36m1\u001b[0m, \u001b[33mletter\u001b[0m=\u001b[32m'L'\u001b[0m\u001b[1m)\u001b[0m,\n",
       "                \u001b[1;35mLetterAttempt\u001b[0m\u001b[1m(\u001b[0m\u001b[33mposition\u001b[0m=\u001b[1;36m2\u001b[0m, \u001b[33mletter\u001b[0m=\u001b[32m'I'\u001b[0m\u001b[1m)\u001b[0m,\n",
       "                \u001b[1;35mLetterAttempt\u001b[0m\u001b[1m(\u001b[0m\u001b[33mposition\u001b[0m=\u001b[1;36m3\u001b[0m, \u001b[33mletter\u001b[0m=\u001b[32m'N'\u001b[0m\u001b[1m)\u001b[0m,\n",
       "                \u001b[1;35mLetterAttempt\u001b[0m\u001b[1m(\u001b[0m\u001b[33mposition\u001b[0m=\u001b[1;36m4\u001b[0m, \u001b[33mletter\u001b[0m=\u001b[32m'E'\u001b[0m\u001b[1m)\u001b[0m\n",
       "            \u001b[1m]\u001b[0m\n",
       "        \u001b[1m)\u001b[0m,\n",
       "        \u001b[1;35mAttempt\u001b[0m\u001b[1m(\u001b[0m\n",
       "            \u001b[33mletters\u001b[0m=\u001b[1m[\u001b[0m\n",
       "                \u001b[1;35mLetterAttempt\u001b[0m\u001b[1m(\u001b[0m\u001b[33mposition\u001b[0m=\u001b[1;36m0\u001b[0m, \u001b[33mletter\u001b[0m=\u001b[32m'W'\u001b[0m\u001b[1m)\u001b[0m,\n",
       "                \u001b[1;35mLetterAttempt\u001b[0m\u001b[1m(\u001b[0m\u001b[33mposition\u001b[0m=\u001b[1;36m1\u001b[0m, \u001b[33mletter\u001b[0m=\u001b[32m'H'\u001b[0m\u001b[1m)\u001b[0m,\n",
       "                \u001b[1;35mLetterAttempt\u001b[0m\u001b[1m(\u001b[0m\u001b[33mposition\u001b[0m=\u001b[1;36m2\u001b[0m, \u001b[33mletter\u001b[0m=\u001b[32m'I'\u001b[0m\u001b[1m)\u001b[0m,\n",
       "                \u001b[1;35mLetterAttempt\u001b[0m\u001b[1m(\u001b[0m\u001b[33mposition\u001b[0m=\u001b[1;36m3\u001b[0m, \u001b[33mletter\u001b[0m=\u001b[32m'N'\u001b[0m\u001b[1m)\u001b[0m,\n",
       "                \u001b[1;35mLetterAttempt\u001b[0m\u001b[1m(\u001b[0m\u001b[33mposition\u001b[0m=\u001b[1;36m4\u001b[0m, \u001b[33mletter\u001b[0m=\u001b[32m'E'\u001b[0m\u001b[1m)\u001b[0m\n",
       "            \u001b[1m]\u001b[0m\n",
       "        \u001b[1m)\u001b[0m,\n",
       "        \u001b[1;35mAttempt\u001b[0m\u001b[1m(\u001b[0m\n",
       "            \u001b[33mletters\u001b[0m=\u001b[1m[\u001b[0m\n",
       "                \u001b[1;35mLetterAttempt\u001b[0m\u001b[1m(\u001b[0m\u001b[33mposition\u001b[0m=\u001b[1;36m0\u001b[0m, \u001b[33mletter\u001b[0m=\u001b[32m'W'\u001b[0m\u001b[1m)\u001b[0m,\n",
       "                \u001b[1;35mLetterAttempt\u001b[0m\u001b[1m(\u001b[0m\u001b[33mposition\u001b[0m=\u001b[1;36m1\u001b[0m, \u001b[33mletter\u001b[0m=\u001b[32m'F'\u001b[0m\u001b[1m)\u001b[0m,\n",
       "                \u001b[1;35mLetterAttempt\u001b[0m\u001b[1m(\u001b[0m\u001b[33mposition\u001b[0m=\u001b[1;36m2\u001b[0m, \u001b[33mletter\u001b[0m=\u001b[32m'I'\u001b[0m\u001b[1m)\u001b[0m,\n",
       "                \u001b[1;35mLetterAttempt\u001b[0m\u001b[1m(\u001b[0m\u001b[33mposition\u001b[0m=\u001b[1;36m3\u001b[0m, \u001b[33mletter\u001b[0m=\u001b[32m'N'\u001b[0m\u001b[1m)\u001b[0m,\n",
       "                \u001b[1;35mLetterAttempt\u001b[0m\u001b[1m(\u001b[0m\u001b[33mposition\u001b[0m=\u001b[1;36m4\u001b[0m, \u001b[33mletter\u001b[0m=\u001b[32m'E'\u001b[0m\u001b[1m)\u001b[0m\n",
       "            \u001b[1m]\u001b[0m\n",
       "        \u001b[1m)\u001b[0m,\n",
       "        \u001b[1;35mAttempt\u001b[0m\u001b[1m(\u001b[0m\n",
       "            \u001b[33mletters\u001b[0m=\u001b[1m[\u001b[0m\n",
       "                \u001b[1;35mLetterAttempt\u001b[0m\u001b[1m(\u001b[0m\u001b[33mposition\u001b[0m=\u001b[1;36m0\u001b[0m, \u001b[33mletter\u001b[0m=\u001b[32m'W'\u001b[0m\u001b[1m)\u001b[0m,\n",
       "                \u001b[1;35mLetterAttempt\u001b[0m\u001b[1m(\u001b[0m\u001b[33mposition\u001b[0m=\u001b[1;36m1\u001b[0m, \u001b[33mletter\u001b[0m=\u001b[32m'D'\u001b[0m\u001b[1m)\u001b[0m,\n",
       "                \u001b[1;35mLetterAttempt\u001b[0m\u001b[1m(\u001b[0m\u001b[33mposition\u001b[0m=\u001b[1;36m2\u001b[0m, \u001b[33mletter\u001b[0m=\u001b[32m'I'\u001b[0m\u001b[1m)\u001b[0m,\n",
       "                \u001b[1;35mLetterAttempt\u001b[0m\u001b[1m(\u001b[0m\u001b[33mposition\u001b[0m=\u001b[1;36m3\u001b[0m, \u001b[33mletter\u001b[0m=\u001b[32m'N'\u001b[0m\u001b[1m)\u001b[0m,\n",
       "                \u001b[1;35mLetterAttempt\u001b[0m\u001b[1m(\u001b[0m\u001b[33mposition\u001b[0m=\u001b[1;36m4\u001b[0m, \u001b[33mletter\u001b[0m=\u001b[32m'E'\u001b[0m\u001b[1m)\u001b[0m\n",
       "            \u001b[1m]\u001b[0m\n",
       "        \u001b[1m)\u001b[0m,\n",
       "        \u001b[1;35mAttempt\u001b[0m\u001b[1m(\u001b[0m\n",
       "            \u001b[33mletters\u001b[0m=\u001b[1m[\u001b[0m\n",
       "                \u001b[1;35mLetterAttempt\u001b[0m\u001b[1m(\u001b[0m\u001b[33mposition\u001b[0m=\u001b[1;36m0\u001b[0m, \u001b[33mletter\u001b[0m=\u001b[32m'W'\u001b[0m\u001b[1m)\u001b[0m,\n",
       "                \u001b[1;35mLetterAttempt\u001b[0m\u001b[1m(\u001b[0m\u001b[33mposition\u001b[0m=\u001b[1;36m1\u001b[0m, \u001b[33mletter\u001b[0m=\u001b[32m'D'\u001b[0m\u001b[1m)\u001b[0m,\n",
       "                \u001b[1;35mLetterAttempt\u001b[0m\u001b[1m(\u001b[0m\u001b[33mposition\u001b[0m=\u001b[1;36m2\u001b[0m, \u001b[33mletter\u001b[0m=\u001b[32m'I'\u001b[0m\u001b[1m)\u001b[0m,\n",
       "                \u001b[1;35mLetterAttempt\u001b[0m\u001b[1m(\u001b[0m\u001b[33mposition\u001b[0m=\u001b[1;36m3\u001b[0m, \u001b[33mletter\u001b[0m=\u001b[32m'N'\u001b[0m\u001b[1m)\u001b[0m,\n",
       "                \u001b[1;35mLetterAttempt\u001b[0m\u001b[1m(\u001b[0m\u001b[33mposition\u001b[0m=\u001b[1;36m4\u001b[0m, \u001b[33mletter\u001b[0m=\u001b[32m'E'\u001b[0m\u001b[1m)\u001b[0m\n",
       "            \u001b[1m]\u001b[0m\n",
       "        \u001b[1m)\u001b[0m\n",
       "    \u001b[1m]\u001b[0m,\n",
       "    \u001b[32m'feedbacks'\u001b[0m: \u001b[1m[\u001b[0m\n",
       "        \u001b[1m[\u001b[0m\n",
       "            \u001b[1;35mLetterAttemptFeedback\u001b[0m\u001b[1m(\u001b[0m\u001b[33mattempt\u001b[0m=\u001b[1;35mLetterAttempt\u001b[0m\u001b[1m(\u001b[0m\u001b[33mposition\u001b[0m=\u001b[1;36m0\u001b[0m, \u001b[33mletter\u001b[0m=\u001b[32m'C'\u001b[0m\u001b[1m)\u001b[0m, \u001b[33mstatus\u001b[0m=\u001b[32m'red'\u001b[0m\u001b[1m)\u001b[0m,\n",
       "            \u001b[1;35mLetterAttemptFeedback\u001b[0m\u001b[1m(\u001b[0m\u001b[33mattempt\u001b[0m=\u001b[1;35mLetterAttempt\u001b[0m\u001b[1m(\u001b[0m\u001b[33mposition\u001b[0m=\u001b[1;36m1\u001b[0m, \u001b[33mletter\u001b[0m=\u001b[32m'R'\u001b[0m\u001b[1m)\u001b[0m, \u001b[33mstatus\u001b[0m=\u001b[32m'red'\u001b[0m\u001b[1m)\u001b[0m,\n",
       "            \u001b[1;35mLetterAttemptFeedback\u001b[0m\u001b[1m(\u001b[0m\u001b[33mattempt\u001b[0m=\u001b[1;35mLetterAttempt\u001b[0m\u001b[1m(\u001b[0m\u001b[33mposition\u001b[0m=\u001b[1;36m2\u001b[0m, \u001b[33mletter\u001b[0m=\u001b[32m'A'\u001b[0m\u001b[1m)\u001b[0m, \u001b[33mstatus\u001b[0m=\u001b[32m'red'\u001b[0m\u001b[1m)\u001b[0m,\n",
       "            \u001b[1;35mLetterAttemptFeedback\u001b[0m\u001b[1m(\u001b[0m\u001b[33mattempt\u001b[0m=\u001b[1;35mLetterAttempt\u001b[0m\u001b[1m(\u001b[0m\u001b[33mposition\u001b[0m=\u001b[1;36m3\u001b[0m, \u001b[33mletter\u001b[0m=\u001b[32m'N'\u001b[0m\u001b[1m)\u001b[0m, \u001b[33mstatus\u001b[0m=\u001b[32m'yellow'\u001b[0m\u001b[1m)\u001b[0m,\n",
       "            \u001b[1;35mLetterAttemptFeedback\u001b[0m\u001b[1m(\u001b[0m\u001b[33mattempt\u001b[0m=\u001b[1;35mLetterAttempt\u001b[0m\u001b[1m(\u001b[0m\u001b[33mposition\u001b[0m=\u001b[1;36m4\u001b[0m, \u001b[33mletter\u001b[0m=\u001b[32m'E'\u001b[0m\u001b[1m)\u001b[0m, \u001b[33mstatus\u001b[0m=\u001b[32m'yellow'\u001b[0m\u001b[1m)\u001b[0m\n",
       "        \u001b[1m]\u001b[0m,\n",
       "        \u001b[1m[\u001b[0m\n",
       "            \u001b[1;35mLetterAttemptFeedback\u001b[0m\u001b[1m(\u001b[0m\u001b[33mattempt\u001b[0m=\u001b[1;35mLetterAttempt\u001b[0m\u001b[1m(\u001b[0m\u001b[33mposition\u001b[0m=\u001b[1;36m0\u001b[0m, \u001b[33mletter\u001b[0m=\u001b[32m'S'\u001b[0m\u001b[1m)\u001b[0m, \u001b[33mstatus\u001b[0m=\u001b[32m'red'\u001b[0m\u001b[1m)\u001b[0m,\n",
       "            \u001b[1;35mLetterAttemptFeedback\u001b[0m\u001b[1m(\u001b[0m\u001b[33mattempt\u001b[0m=\u001b[1;35mLetterAttempt\u001b[0m\u001b[1m(\u001b[0m\u001b[33mposition\u001b[0m=\u001b[1;36m1\u001b[0m, \u001b[33mletter\u001b[0m=\u001b[32m'T'\u001b[0m\u001b[1m)\u001b[0m, \u001b[33mstatus\u001b[0m=\u001b[32m'red'\u001b[0m\u001b[1m)\u001b[0m,\n",
       "            \u001b[1;35mLetterAttemptFeedback\u001b[0m\u001b[1m(\u001b[0m\u001b[33mattempt\u001b[0m=\u001b[1;35mLetterAttempt\u001b[0m\u001b[1m(\u001b[0m\u001b[33mposition\u001b[0m=\u001b[1;36m2\u001b[0m, \u001b[33mletter\u001b[0m=\u001b[32m'I'\u001b[0m\u001b[1m)\u001b[0m, \u001b[33mstatus\u001b[0m=\u001b[32m'yellow'\u001b[0m\u001b[1m)\u001b[0m,\n",
       "            \u001b[1;35mLetterAttemptFeedback\u001b[0m\u001b[1m(\u001b[0m\u001b[33mattempt\u001b[0m=\u001b[1;35mLetterAttempt\u001b[0m\u001b[1m(\u001b[0m\u001b[33mposition\u001b[0m=\u001b[1;36m3\u001b[0m, \u001b[33mletter\u001b[0m=\u001b[32m'N'\u001b[0m\u001b[1m)\u001b[0m, \u001b[33mstatus\u001b[0m=\u001b[32m'yellow'\u001b[0m\u001b[1m)\u001b[0m,\n",
       "            \u001b[1;35mLetterAttemptFeedback\u001b[0m\u001b[1m(\u001b[0m\u001b[33mattempt\u001b[0m=\u001b[1;35mLetterAttempt\u001b[0m\u001b[1m(\u001b[0m\u001b[33mposition\u001b[0m=\u001b[1;36m4\u001b[0m, \u001b[33mletter\u001b[0m=\u001b[32m'E'\u001b[0m\u001b[1m)\u001b[0m, \u001b[33mstatus\u001b[0m=\u001b[32m'yellow'\u001b[0m\u001b[1m)\u001b[0m\n",
       "        \u001b[1m]\u001b[0m,\n",
       "        \u001b[1m[\u001b[0m\n",
       "            \u001b[1;35mLetterAttemptFeedback\u001b[0m\u001b[1m(\u001b[0m\u001b[33mattempt\u001b[0m=\u001b[1;35mLetterAttempt\u001b[0m\u001b[1m(\u001b[0m\u001b[33mposition\u001b[0m=\u001b[1;36m0\u001b[0m, \u001b[33mletter\u001b[0m=\u001b[32m'P'\u001b[0m\u001b[1m)\u001b[0m, \u001b[33mstatus\u001b[0m=\u001b[32m'red'\u001b[0m\u001b[1m)\u001b[0m,\n",
       "            \u001b[1;35mLetterAttemptFeedback\u001b[0m\u001b[1m(\u001b[0m\u001b[33mattempt\u001b[0m=\u001b[1;35mLetterAttempt\u001b[0m\u001b[1m(\u001b[0m\u001b[33mposition\u001b[0m=\u001b[1;36m1\u001b[0m, \u001b[33mletter\u001b[0m=\u001b[32m'L'\u001b[0m\u001b[1m)\u001b[0m, \u001b[33mstatus\u001b[0m=\u001b[32m'red'\u001b[0m\u001b[1m)\u001b[0m,\n",
       "            \u001b[1;35mLetterAttemptFeedback\u001b[0m\u001b[1m(\u001b[0m\u001b[33mattempt\u001b[0m=\u001b[1;35mLetterAttempt\u001b[0m\u001b[1m(\u001b[0m\u001b[33mposition\u001b[0m=\u001b[1;36m2\u001b[0m, \u001b[33mletter\u001b[0m=\u001b[32m'I'\u001b[0m\u001b[1m)\u001b[0m, \u001b[33mstatus\u001b[0m=\u001b[32m'yellow'\u001b[0m\u001b[1m)\u001b[0m,\n",
       "            \u001b[1;35mLetterAttemptFeedback\u001b[0m\u001b[1m(\u001b[0m\u001b[33mattempt\u001b[0m=\u001b[1;35mLetterAttempt\u001b[0m\u001b[1m(\u001b[0m\u001b[33mposition\u001b[0m=\u001b[1;36m3\u001b[0m, \u001b[33mletter\u001b[0m=\u001b[32m'N'\u001b[0m\u001b[1m)\u001b[0m, \u001b[33mstatus\u001b[0m=\u001b[32m'yellow'\u001b[0m\u001b[1m)\u001b[0m,\n",
       "            \u001b[1;35mLetterAttemptFeedback\u001b[0m\u001b[1m(\u001b[0m\u001b[33mattempt\u001b[0m=\u001b[1;35mLetterAttempt\u001b[0m\u001b[1m(\u001b[0m\u001b[33mposition\u001b[0m=\u001b[1;36m4\u001b[0m, \u001b[33mletter\u001b[0m=\u001b[32m'E'\u001b[0m\u001b[1m)\u001b[0m, \u001b[33mstatus\u001b[0m=\u001b[32m'yellow'\u001b[0m\u001b[1m)\u001b[0m\n",
       "        \u001b[1m]\u001b[0m,\n",
       "        \u001b[1m[\u001b[0m\n",
       "            \u001b[1;35mLetterAttemptFeedback\u001b[0m\u001b[1m(\u001b[0m\u001b[33mattempt\u001b[0m=\u001b[1;35mLetterAttempt\u001b[0m\u001b[1m(\u001b[0m\u001b[33mposition\u001b[0m=\u001b[1;36m0\u001b[0m, \u001b[33mletter\u001b[0m=\u001b[32m'W'\u001b[0m\u001b[1m)\u001b[0m, \u001b[33mstatus\u001b[0m=\u001b[32m'green'\u001b[0m\u001b[1m)\u001b[0m,\n",
       "            \u001b[1;35mLetterAttemptFeedback\u001b[0m\u001b[1m(\u001b[0m\u001b[33mattempt\u001b[0m=\u001b[1;35mLetterAttempt\u001b[0m\u001b[1m(\u001b[0m\u001b[33mposition\u001b[0m=\u001b[1;36m1\u001b[0m, \u001b[33mletter\u001b[0m=\u001b[32m'H'\u001b[0m\u001b[1m)\u001b[0m, \u001b[33mstatus\u001b[0m=\u001b[32m'red'\u001b[0m\u001b[1m)\u001b[0m,\n",
       "            \u001b[1;35mLetterAttemptFeedback\u001b[0m\u001b[1m(\u001b[0m\u001b[33mattempt\u001b[0m=\u001b[1;35mLetterAttempt\u001b[0m\u001b[1m(\u001b[0m\u001b[33mposition\u001b[0m=\u001b[1;36m2\u001b[0m, \u001b[33mletter\u001b[0m=\u001b[32m'I'\u001b[0m\u001b[1m)\u001b[0m, \u001b[33mstatus\u001b[0m=\u001b[32m'yellow'\u001b[0m\u001b[1m)\u001b[0m,\n",
       "            \u001b[1;35mLetterAttemptFeedback\u001b[0m\u001b[1m(\u001b[0m\u001b[33mattempt\u001b[0m=\u001b[1;35mLetterAttempt\u001b[0m\u001b[1m(\u001b[0m\u001b[33mposition\u001b[0m=\u001b[1;36m3\u001b[0m, \u001b[33mletter\u001b[0m=\u001b[32m'N'\u001b[0m\u001b[1m)\u001b[0m, \u001b[33mstatus\u001b[0m=\u001b[32m'yellow'\u001b[0m\u001b[1m)\u001b[0m,\n",
       "            \u001b[1;35mLetterAttemptFeedback\u001b[0m\u001b[1m(\u001b[0m\u001b[33mattempt\u001b[0m=\u001b[1;35mLetterAttempt\u001b[0m\u001b[1m(\u001b[0m\u001b[33mposition\u001b[0m=\u001b[1;36m4\u001b[0m, \u001b[33mletter\u001b[0m=\u001b[32m'E'\u001b[0m\u001b[1m)\u001b[0m, \u001b[33mstatus\u001b[0m=\u001b[32m'yellow'\u001b[0m\u001b[1m)\u001b[0m\n",
       "        \u001b[1m]\u001b[0m,\n",
       "        \u001b[1m[\u001b[0m\n",
       "            \u001b[1;35mLetterAttemptFeedback\u001b[0m\u001b[1m(\u001b[0m\u001b[33mattempt\u001b[0m=\u001b[1;35mLetterAttempt\u001b[0m\u001b[1m(\u001b[0m\u001b[33mposition\u001b[0m=\u001b[1;36m0\u001b[0m, \u001b[33mletter\u001b[0m=\u001b[32m'W'\u001b[0m\u001b[1m)\u001b[0m, \u001b[33mstatus\u001b[0m=\u001b[32m'green'\u001b[0m\u001b[1m)\u001b[0m,\n",
       "            \u001b[1;35mLetterAttemptFeedback\u001b[0m\u001b[1m(\u001b[0m\u001b[33mattempt\u001b[0m=\u001b[1;35mLetterAttempt\u001b[0m\u001b[1m(\u001b[0m\u001b[33mposition\u001b[0m=\u001b[1;36m1\u001b[0m, \u001b[33mletter\u001b[0m=\u001b[32m'F'\u001b[0m\u001b[1m)\u001b[0m, \u001b[33mstatus\u001b[0m=\u001b[32m'red'\u001b[0m\u001b[1m)\u001b[0m,\n",
       "            \u001b[1;35mLetterAttemptFeedback\u001b[0m\u001b[1m(\u001b[0m\u001b[33mattempt\u001b[0m=\u001b[1;35mLetterAttempt\u001b[0m\u001b[1m(\u001b[0m\u001b[33mposition\u001b[0m=\u001b[1;36m2\u001b[0m, \u001b[33mletter\u001b[0m=\u001b[32m'I'\u001b[0m\u001b[1m)\u001b[0m, \u001b[33mstatus\u001b[0m=\u001b[32m'yellow'\u001b[0m\u001b[1m)\u001b[0m,\n",
       "            \u001b[1;35mLetterAttemptFeedback\u001b[0m\u001b[1m(\u001b[0m\u001b[33mattempt\u001b[0m=\u001b[1;35mLetterAttempt\u001b[0m\u001b[1m(\u001b[0m\u001b[33mposition\u001b[0m=\u001b[1;36m3\u001b[0m, \u001b[33mletter\u001b[0m=\u001b[32m'N'\u001b[0m\u001b[1m)\u001b[0m, \u001b[33mstatus\u001b[0m=\u001b[32m'yellow'\u001b[0m\u001b[1m)\u001b[0m,\n",
       "            \u001b[1;35mLetterAttemptFeedback\u001b[0m\u001b[1m(\u001b[0m\u001b[33mattempt\u001b[0m=\u001b[1;35mLetterAttempt\u001b[0m\u001b[1m(\u001b[0m\u001b[33mposition\u001b[0m=\u001b[1;36m4\u001b[0m, \u001b[33mletter\u001b[0m=\u001b[32m'E'\u001b[0m\u001b[1m)\u001b[0m, \u001b[33mstatus\u001b[0m=\u001b[32m'yellow'\u001b[0m\u001b[1m)\u001b[0m\n",
       "        \u001b[1m]\u001b[0m,\n",
       "        \u001b[1m[\u001b[0m\n",
       "            \u001b[1;35mLetterAttemptFeedback\u001b[0m\u001b[1m(\u001b[0m\u001b[33mattempt\u001b[0m=\u001b[1;35mLetterAttempt\u001b[0m\u001b[1m(\u001b[0m\u001b[33mposition\u001b[0m=\u001b[1;36m0\u001b[0m, \u001b[33mletter\u001b[0m=\u001b[32m'W'\u001b[0m\u001b[1m)\u001b[0m, \u001b[33mstatus\u001b[0m=\u001b[32m'green'\u001b[0m\u001b[1m)\u001b[0m,\n",
       "            \u001b[1;35mLetterAttemptFeedback\u001b[0m\u001b[1m(\u001b[0m\u001b[33mattempt\u001b[0m=\u001b[1;35mLetterAttempt\u001b[0m\u001b[1m(\u001b[0m\u001b[33mposition\u001b[0m=\u001b[1;36m1\u001b[0m, \u001b[33mletter\u001b[0m=\u001b[32m'D'\u001b[0m\u001b[1m)\u001b[0m, \u001b[33mstatus\u001b[0m=\u001b[32m'yellow'\u001b[0m\u001b[1m)\u001b[0m,\n",
       "            \u001b[1;35mLetterAttemptFeedback\u001b[0m\u001b[1m(\u001b[0m\u001b[33mattempt\u001b[0m=\u001b[1;35mLetterAttempt\u001b[0m\u001b[1m(\u001b[0m\u001b[33mposition\u001b[0m=\u001b[1;36m2\u001b[0m, \u001b[33mletter\u001b[0m=\u001b[32m'I'\u001b[0m\u001b[1m)\u001b[0m, \u001b[33mstatus\u001b[0m=\u001b[32m'yellow'\u001b[0m\u001b[1m)\u001b[0m,\n",
       "            \u001b[1;35mLetterAttemptFeedback\u001b[0m\u001b[1m(\u001b[0m\u001b[33mattempt\u001b[0m=\u001b[1;35mLetterAttempt\u001b[0m\u001b[1m(\u001b[0m\u001b[33mposition\u001b[0m=\u001b[1;36m3\u001b[0m, \u001b[33mletter\u001b[0m=\u001b[32m'N'\u001b[0m\u001b[1m)\u001b[0m, \u001b[33mstatus\u001b[0m=\u001b[32m'yellow'\u001b[0m\u001b[1m)\u001b[0m,\n",
       "            \u001b[1;35mLetterAttemptFeedback\u001b[0m\u001b[1m(\u001b[0m\u001b[33mattempt\u001b[0m=\u001b[1;35mLetterAttempt\u001b[0m\u001b[1m(\u001b[0m\u001b[33mposition\u001b[0m=\u001b[1;36m4\u001b[0m, \u001b[33mletter\u001b[0m=\u001b[32m'E'\u001b[0m\u001b[1m)\u001b[0m, \u001b[33mstatus\u001b[0m=\u001b[32m'yellow'\u001b[0m\u001b[1m)\u001b[0m\n",
       "        \u001b[1m]\u001b[0m,\n",
       "        \u001b[1m[\u001b[0m\n",
       "            \u001b[1;35mLetterAttemptFeedback\u001b[0m\u001b[1m(\u001b[0m\u001b[33mattempt\u001b[0m=\u001b[1;35mLetterAttempt\u001b[0m\u001b[1m(\u001b[0m\u001b[33mposition\u001b[0m=\u001b[1;36m0\u001b[0m, \u001b[33mletter\u001b[0m=\u001b[32m'W'\u001b[0m\u001b[1m)\u001b[0m, \u001b[33mstatus\u001b[0m=\u001b[32m'green'\u001b[0m\u001b[1m)\u001b[0m,\n",
       "            \u001b[1;35mLetterAttemptFeedback\u001b[0m\u001b[1m(\u001b[0m\u001b[33mattempt\u001b[0m=\u001b[1;35mLetterAttempt\u001b[0m\u001b[1m(\u001b[0m\u001b[33mposition\u001b[0m=\u001b[1;36m1\u001b[0m, \u001b[33mletter\u001b[0m=\u001b[32m'D'\u001b[0m\u001b[1m)\u001b[0m, \u001b[33mstatus\u001b[0m=\u001b[32m'yellow'\u001b[0m\u001b[1m)\u001b[0m,\n",
       "            \u001b[1;35mLetterAttemptFeedback\u001b[0m\u001b[1m(\u001b[0m\u001b[33mattempt\u001b[0m=\u001b[1;35mLetterAttempt\u001b[0m\u001b[1m(\u001b[0m\u001b[33mposition\u001b[0m=\u001b[1;36m2\u001b[0m, \u001b[33mletter\u001b[0m=\u001b[32m'I'\u001b[0m\u001b[1m)\u001b[0m, \u001b[33mstatus\u001b[0m=\u001b[32m'yellow'\u001b[0m\u001b[1m)\u001b[0m,\n",
       "            \u001b[1;35mLetterAttemptFeedback\u001b[0m\u001b[1m(\u001b[0m\u001b[33mattempt\u001b[0m=\u001b[1;35mLetterAttempt\u001b[0m\u001b[1m(\u001b[0m\u001b[33mposition\u001b[0m=\u001b[1;36m3\u001b[0m, \u001b[33mletter\u001b[0m=\u001b[32m'N'\u001b[0m\u001b[1m)\u001b[0m, \u001b[33mstatus\u001b[0m=\u001b[32m'yellow'\u001b[0m\u001b[1m)\u001b[0m,\n",
       "            \u001b[1;35mLetterAttemptFeedback\u001b[0m\u001b[1m(\u001b[0m\u001b[33mattempt\u001b[0m=\u001b[1;35mLetterAttempt\u001b[0m\u001b[1m(\u001b[0m\u001b[33mposition\u001b[0m=\u001b[1;36m4\u001b[0m, \u001b[33mletter\u001b[0m=\u001b[32m'E'\u001b[0m\u001b[1m)\u001b[0m, \u001b[33mstatus\u001b[0m=\u001b[32m'yellow'\u001b[0m\u001b[1m)\u001b[0m\n",
       "        \u001b[1m]\u001b[0m\n",
       "    \u001b[1m]\u001b[0m\n",
       "\u001b[1m}\u001b[0m"
      ]
     },
     "execution_count": 8,
     "metadata": {},
     "output_type": "execute_result"
    }
   ],
   "source": [
    "result"
   ]
  },
  {
   "cell_type": "code",
   "execution_count": null,
   "metadata": {},
   "outputs": [],
   "source": []
  }
 ],
 "metadata": {
  "kernelspec": {
   "display_name": ".venv",
   "language": "python",
   "name": "python3"
  },
  "language_info": {
   "codemirror_mode": {
    "name": "ipython",
    "version": 3
   },
   "file_extension": ".py",
   "mimetype": "text/x-python",
   "name": "python",
   "nbconvert_exporter": "python",
   "pygments_lexer": "ipython3",
   "version": "3.10.11"
  }
 },
 "nbformat": 4,
 "nbformat_minor": 2
}
